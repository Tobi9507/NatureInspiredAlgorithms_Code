{
 "cells": [
  {
   "cell_type": "markdown",
   "metadata": {},
   "source": [
    "# Vergleich der Algorithmen"
   ]
  },
  {
   "cell_type": "code",
   "execution_count": 1,
   "metadata": {},
   "outputs": [],
   "source": [
    "# imports\n",
    "# add folder to syspath to import GeneticAlgorithm \n",
    "import os\n",
    "import sys\n",
    "path = os.path.dirname(os.path.abspath(''))\n",
    "sys.path.insert(0, path+'/GeneticAlgorithm')\n",
    "from GeneticAlgorithm import GeneticAlgorithm\n",
    "sys.path.insert(0, path+'/ParticleSwarmOptimization')\n",
    "from ParticleSwarmOptimization import ParticleSwarmOptimization\n",
    "\n",
    " # add folder to syspath to import ACO \n",
    "sys.path.insert(0, os.path.dirname(path)+'/AntColonyOptimization')\n",
    "\n",
    "import numpy as np\n",
    "from matplotlib import pyplot as plt"
   ]
  },
  {
   "cell_type": "code",
   "execution_count": 2,
   "metadata": {},
   "outputs": [
    {
     "name": "stdout",
     "output_type": "stream",
     "text": [
      "Optimale Lösungen\n",
      "Kleines Problem 3\n",
      "Medium Problem 16\n",
      "Großes Problem 35\n"
     ]
    }
   ],
   "source": [
    "# lade die Probleme (klassisch)\n",
    "# small problem\n",
    "small_objects  = np.load(os.path.join(path,'Compare/Ressources/betterproblem/small_objects.npy'))\n",
    "small_container = np.load(os.path.join(path,'Compare/Ressources/betterproblem/small_container.npy'))\n",
    "small_optimal_solution = np.load(os.path.join(path, 'Compare/Ressources/betterproblem/small_optimal.npy'))\n",
    "# medium Problem\n",
    "medium_objects= np.load(os.path.join(path,'Compare/Ressources/betterproblem/medium_objects.npy'))\n",
    "medium_container = np.load(os.path.join(path,'Compare/Ressources/betterproblem/medium_container.npy'))\n",
    "medium_optimal_solution = np.load(os.path.join(path, 'Compare/Ressources/betterproblem/medium_optimal.npy'))\n",
    "# large Problem\n",
    "large_objects  = np.load(os.path.join(path,'Compare/Ressources/betterproblem/large_objects.npy'))\n",
    "large_container = np.load(os.path.join(path,'Compare/Ressources/betterproblem/large_container.npy'))\n",
    "large_optimal_solution = np.load(os.path.join(path, 'Compare/Ressources/betterproblem/large_optimal.npy'))\n",
    "\n",
    "print('Optimale Lösungen')\n",
    "print(f'Kleines Problem {small_optimal_solution}')\n",
    "print(f'Medium Problem {medium_optimal_solution}')\n",
    "print(f'Großes Problem {large_optimal_solution}')"
   ]
  },
  {
   "cell_type": "code",
   "execution_count": 3,
   "metadata": {},
   "outputs": [
    {
     "name": "stdout",
     "output_type": "stream",
     "text": [
      "Optimale Lösungen\n",
      "50: [14 14 14 15 14 13 13 13 14 14]\n",
      "100 [30 26 29 27 29 29 29 25 27 27]\n",
      "250 [72 70 67 71 71 71 67 74 75 71]\n",
      "500 [145 139 141 146 143 149 142 143 147 140]\n",
      "1000 [283 288 283 284 282 293 286 282 285 291]\n"
     ]
    }
   ],
   "source": [
    "# lade die Probleme (neu)\n",
    "# 50\n",
    "new_50_0 = np.load(os.path.join(path,'Compare/Ressources/newproblem/o50_0.npy'))\n",
    "new_50_1 = np.load(os.path.join(path,'Compare/Ressources/newproblem/o50_1.npy'))\n",
    "new_50_2 = np.load(os.path.join(path,'Compare/Ressources/newproblem/o50_2.npy'))\n",
    "new_50_3 = np.load(os.path.join(path,'Compare/Ressources/newproblem/o50_3.npy'))\n",
    "new_50_4 = np.load(os.path.join(path,'Compare/Ressources/newproblem/o50_4.npy'))\n",
    "new_50_5 = np.load(os.path.join(path,'Compare/Ressources/newproblem/o50_5.npy'))\n",
    "new_50_6 = np.load(os.path.join(path,'Compare/Ressources/newproblem/o50_6.npy'))\n",
    "new_50_7 = np.load(os.path.join(path,'Compare/Ressources/newproblem/o50_7.npy'))\n",
    "new_50_8 = np.load(os.path.join(path,'Compare/Ressources/newproblem/o50_8.npy'))\n",
    "new_50_9 = np.load(os.path.join(path,'Compare/Ressources/newproblem/o50_9.npy'))\n",
    "new_50_container = np.load(os.path.join(path,'Compare/Ressources/newproblem/medium_container.npy'))\n",
    "new_50_optimal = np.load(os.path.join(path,'Compare/Ressources/newproblem/optimal_solutions_50.npy'))\n",
    "# 100\n",
    "new_100_0 = np.load(os.path.join(path,'Compare/Ressources/newproblem/o100_0.npy'))\n",
    "new_100_1 = np.load(os.path.join(path,'Compare/Ressources/newproblem/o100_1.npy'))\n",
    "new_100_2 = np.load(os.path.join(path,'Compare/Ressources/newproblem/o100_2.npy'))\n",
    "new_100_3 = np.load(os.path.join(path,'Compare/Ressources/newproblem/o100_3.npy'))\n",
    "new_100_4 = np.load(os.path.join(path,'Compare/Ressources/newproblem/o100_4.npy'))\n",
    "new_100_5 = np.load(os.path.join(path,'Compare/Ressources/newproblem/o100_5.npy'))\n",
    "new_100_6 = np.load(os.path.join(path,'Compare/Ressources/newproblem/o100_6.npy'))\n",
    "new_100_7 = np.load(os.path.join(path,'Compare/Ressources/newproblem/o100_7.npy'))\n",
    "new_100_8 = np.load(os.path.join(path,'Compare/Ressources/newproblem/o100_8.npy'))\n",
    "new_100_9 = np.load(os.path.join(path,'Compare/Ressources/newproblem/o100_9.npy'))\n",
    "new_100_container = np.load(os.path.join(path,'Compare/Ressources/newproblem/medium_container.npy'))\n",
    "new_100_optimal = np.load(os.path.join(path,'Compare/Ressources/newproblem/optimal_solutions_100.npy'))\n",
    "# 250\n",
    "new_250_0 = np.load(os.path.join(path,'Compare/Ressources/newproblem/o250_0.npy'))\n",
    "new_250_1 = np.load(os.path.join(path,'Compare/Ressources/newproblem/o250_1.npy'))\n",
    "new_250_2 = np.load(os.path.join(path,'Compare/Ressources/newproblem/o250_2.npy'))\n",
    "new_250_3 = np.load(os.path.join(path,'Compare/Ressources/newproblem/o250_3.npy'))\n",
    "new_250_4 = np.load(os.path.join(path,'Compare/Ressources/newproblem/o250_4.npy'))\n",
    "new_250_5 = np.load(os.path.join(path,'Compare/Ressources/newproblem/o250_5.npy'))\n",
    "new_250_6 = np.load(os.path.join(path,'Compare/Ressources/newproblem/o250_6.npy'))\n",
    "new_250_7 = np.load(os.path.join(path,'Compare/Ressources/newproblem/o250_7.npy'))\n",
    "new_250_8 = np.load(os.path.join(path,'Compare/Ressources/newproblem/o250_8.npy'))\n",
    "new_250_9 = np.load(os.path.join(path,'Compare/Ressources/newproblem/o250_9.npy'))\n",
    "new_250_container = np.load(os.path.join(path,'Compare/Ressources/newproblem/medium_container.npy'))\n",
    "new_250_optimal = np.load(os.path.join(path,'Compare/Ressources/newproblem/optimal_solutions_250.npy'))\n",
    "# 500\n",
    "new_500_0 = np.load(os.path.join(path,'Compare/Ressources/newproblem/o500_0.npy'))\n",
    "new_500_1 = np.load(os.path.join(path,'Compare/Ressources/newproblem/o500_1.npy'))\n",
    "new_500_2 = np.load(os.path.join(path,'Compare/Ressources/newproblem/o500_2.npy'))\n",
    "new_500_3 = np.load(os.path.join(path,'Compare/Ressources/newproblem/o500_3.npy'))\n",
    "new_500_4 = np.load(os.path.join(path,'Compare/Ressources/newproblem/o500_4.npy'))\n",
    "new_500_5 = np.load(os.path.join(path,'Compare/Ressources/newproblem/o500_5.npy'))\n",
    "new_500_6 = np.load(os.path.join(path,'Compare/Ressources/newproblem/o500_6.npy'))\n",
    "new_500_7 = np.load(os.path.join(path,'Compare/Ressources/newproblem/o500_7.npy'))\n",
    "new_500_8 = np.load(os.path.join(path,'Compare/Ressources/newproblem/o500_8.npy'))\n",
    "new_500_9 = np.load(os.path.join(path,'Compare/Ressources/newproblem/o500_9.npy'))\n",
    "new_500_container = np.load(os.path.join(path,'Compare/Ressources/newproblem/medium_container.npy'))\n",
    "new_500_optimal = np.load(os.path.join(path,'Compare/Ressources/newproblem/optimal_solutions_500.npy'))\n",
    "# 1000\n",
    "new_1000_0 = np.load(os.path.join(path,'Compare/Ressources/newproblem/o1000_0.npy'))\n",
    "new_1000_1 = np.load(os.path.join(path,'Compare/Ressources/newproblem/o1000_1.npy'))\n",
    "new_1000_2 = np.load(os.path.join(path,'Compare/Ressources/newproblem/o1000_2.npy'))\n",
    "new_1000_3 = np.load(os.path.join(path,'Compare/Ressources/newproblem/o1000_3.npy'))\n",
    "new_1000_4 = np.load(os.path.join(path,'Compare/Ressources/newproblem/o1000_4.npy'))\n",
    "new_1000_5 = np.load(os.path.join(path,'Compare/Ressources/newproblem/o1000_5.npy'))\n",
    "new_1000_6 = np.load(os.path.join(path,'Compare/Ressources/newproblem/o1000_6.npy'))\n",
    "new_1000_7 = np.load(os.path.join(path,'Compare/Ressources/newproblem/o1000_7.npy'))\n",
    "new_1000_8 = np.load(os.path.join(path,'Compare/Ressources/newproblem/o1000_8.npy'))\n",
    "new_1000_9 = np.load(os.path.join(path,'Compare/Ressources/newproblem/o1000_9.npy'))\n",
    "new_1000_container = np.load(os.path.join(path,'Compare/Ressources/newproblem/medium_container.npy'))\n",
    "new_1000_optimal = np.load(os.path.join(path,'Compare/Ressources/newproblem/optimal_solutions_1000.npy'))\n",
    "print('Optimale Lösungen')\n",
    "print(f'50: {new_50_optimal}')\n",
    "print(f'100 {new_100_optimal}')\n",
    "print(f'250 {new_250_optimal}')\n",
    "print(f'500 {new_500_optimal}')\n",
    "print(f'1000 {new_1000_optimal}')"
   ]
  },
  {
   "cell_type": "code",
   "execution_count": 4,
   "metadata": {},
   "outputs": [],
   "source": [
    "number_average = 10\n",
    "iterations = 30"
   ]
  },
  {
   "cell_type": "markdown",
   "metadata": {},
   "source": [
    "# GA"
   ]
  },
  {
   "cell_type": "markdown",
   "metadata": {},
   "source": [
    "## small"
   ]
  },
  {
   "cell_type": "code",
   "execution_count": 5,
   "metadata": {},
   "outputs": [
    {
     "name": "stdout",
     "output_type": "stream",
     "text": [
      "0 done\n",
      "1 done\n",
      "2 done\n",
      "3 done\n",
      "4 done\n",
      "5 done\n",
      "6 done\n",
      "7 done\n",
      "8 done\n",
      "9 done\n"
     ]
    }
   ],
   "source": [
    "small_GA_runtime = np.zeros(number_average)\n",
    "small_GA_gbest_bins = np.zeros((number_average))\n",
    "small_GA_average_bins = np.zeros((number_average, iterations))\n",
    "small_GA_best_bins = np.zeros((number_average, iterations))\n",
    "small_GA_worst_bins = np.zeros((number_average, iterations))\n",
    "small_GA_fitness = np.zeros((number_average, iterations))\n",
    "\n",
    "for i in range(number_average):\n",
    "    GA = GeneticAlgorithm(small_objects, small_container[0], small_container[1])\n",
    "    _, small_GA_gbest_bins[i], small_GA_average_bins[i], small_GA_best_bins, small_GA_worst_bins, small_GA_runtime[i], small_GA_fitness[i] = GA.run()\n",
    "    print(str(i) + ' done')\n",
    "    \n",
    "name1 = 'Solutions/small_GA_runtime.npy'\n",
    "name2 = 'Solutions/small_GA_gbest_bins.npy'\n",
    "name3 = 'Solutions/small_GA_average_bins.npy'\n",
    "name4 = 'Solutions/small_GA_best_bins.npy'\n",
    "name5 = 'Solutions/small_GA_worst_bins.npy'\n",
    "name6 = 'Solutions/small_GA_fitness.npy'\n",
    "\n",
    "np.save(name1, small_GA_runtime)\n",
    "np.save(name2, small_GA_gbest_bins)\n",
    "np.save(name3, small_GA_average_bins)\n",
    "np.save(name4, small_GA_best_bins)\n",
    "np.save(name5, small_GA_worst_bins)\n",
    "np.save(name6, small_GA_fitness)"
   ]
  },
  {
   "cell_type": "markdown",
   "metadata": {},
   "source": [
    "## medium"
   ]
  },
  {
   "cell_type": "code",
   "execution_count": 6,
   "metadata": {},
   "outputs": [
    {
     "name": "stdout",
     "output_type": "stream",
     "text": [
      "0 done\n",
      "1 done\n",
      "2 done\n",
      "3 done\n",
      "4 done\n",
      "5 done\n",
      "6 done\n",
      "7 done\n",
      "8 done\n",
      "9 done\n"
     ]
    }
   ],
   "source": [
    "medium_GA_runtime = np.zeros(number_average)\n",
    "medium_GA_gbest_bins = np.zeros((number_average))\n",
    "medium_GA_average_bins = np.zeros((number_average, iterations))\n",
    "medium_GA_best_bins = np.zeros((number_average, iterations))\n",
    "medium_GA_worst_bins = np.zeros((number_average, iterations))\n",
    "medium_GA_fitness = np.zeros((number_average, iterations))\n",
    "\n",
    "for i in range(number_average):\n",
    "    GA = GeneticAlgorithm(medium_objects, medium_container[0], medium_container[1])\n",
    "    _, medium_GA_gbest_bins[i], medium_GA_average_bins[i], medium_GA_best_bins, medium_GA_worst_bins, medium_GA_runtime[i], medium_GA_fitness[i] = GA.run()\n",
    "    print(str(i) + ' done')\n",
    "    \n",
    "name1 = 'Solutions/medium_GA_runtime.npy'\n",
    "name2 = 'Solutions/medium_GA_gbest_bins.npy'\n",
    "name3 = 'Solutions/medium_GA_average_bins.npy'\n",
    "name4 = 'Solutions/medium_GA_best_bins.npy'\n",
    "name5 = 'Solutions/medium_GA_worst_bins.npy'\n",
    "name6 = 'Solutions/medium_GA_fitness.npy'\n",
    "\n",
    "np.save(name1, medium_GA_runtime)\n",
    "np.save(name2, medium_GA_gbest_bins)\n",
    "np.save(name3, medium_GA_average_bins)\n",
    "np.save(name4, medium_GA_best_bins)\n",
    "np.save(name5, medium_GA_worst_bins)\n",
    "np.save(name6, medium_GA_fitness)"
   ]
  },
  {
   "cell_type": "markdown",
   "metadata": {},
   "source": [
    "## large"
   ]
  },
  {
   "cell_type": "code",
   "execution_count": 7,
   "metadata": {},
   "outputs": [
    {
     "name": "stdout",
     "output_type": "stream",
     "text": [
      "0 done\n",
      "1 done\n",
      "2 done\n",
      "3 done\n",
      "4 done\n",
      "5 done\n",
      "6 done\n",
      "7 done\n",
      "8 done\n",
      "9 done\n"
     ]
    }
   ],
   "source": [
    "large_GA_runtime = np.zeros(number_average)\n",
    "large_GA_gbest_bins = np.zeros((number_average))\n",
    "large_GA_average_bins = np.zeros((number_average, iterations))\n",
    "large_GA_best_bins = np.zeros((number_average, iterations))\n",
    "large_GA_worst_bins = np.zeros((number_average, iterations))\n",
    "large_GA_fitness = np.zeros((number_average, iterations))\n",
    "\n",
    "for i in range(number_average):\n",
    "    GA = GeneticAlgorithm(large_objects, large_container[0], large_container[1])\n",
    "    _, large_GA_gbest_bins[i], large_GA_average_bins[i], large_GA_best_bins, large_GA_worst_bins, large_GA_runtime[i], large_GA_fitness[i] = GA.run()\n",
    "    print(str(i) + ' done')\n",
    "    \n",
    "name1 = 'Solutions/large_GA_runtime.npy'\n",
    "name2 = 'Solutions/large_GA_gbest_bins.npy'\n",
    "name3 = 'Solutions/large_GA_average_bins.npy'\n",
    "name4 = 'Solutions/large_GA_best_bins.npy'\n",
    "name5 = 'Solutions/large_GA_worst_bins.npy'\n",
    "name6 = 'Solutions/large_GA_fitness.npy'\n",
    "\n",
    "np.save(name1, large_GA_runtime)\n",
    "np.save(name2, large_GA_gbest_bins)\n",
    "np.save(name3, large_GA_average_bins)\n",
    "np.save(name4, large_GA_best_bins)\n",
    "np.save(name5, large_GA_worst_bins)\n",
    "np.save(name6, large_GA_fitness)"
   ]
  },
  {
   "cell_type": "markdown",
   "metadata": {},
   "source": [
    "## PSO new_50"
   ]
  },
  {
   "cell_type": "markdown",
   "metadata": {},
   "source": [
    "### new_50_0"
   ]
  },
  {
   "cell_type": "code",
   "execution_count": null,
   "metadata": {},
   "outputs": [],
   "source": [
    "#new_50_0_GA_solution_bins = np.zeros(number_average) # <- ist bei mir einfach nur die letzte Generation -> brauchen wir das wirklich dann muss ich noch einiges umschreiben?\n",
    "new_50_0_GA_runtime = np.zeros(number_average) #wichtig\n",
    "# new_50_0_PSO_gbest_bins = np.zeros((number_average, iterations)) <- Ist bei mir nur ein eindim Array? Also der bestBin der überhaupt gefunden wurde (pro durchlauf(number_average))\n",
    "new_50_0_GA_gbest_bins = np.zeros((number_average))\n",
    "#new_50_0_PSO_gbest_fitness = np.zeros((number_average, iterations)) <- habe ich nicht \n",
    "new_50_0_GA_average_bins = np.zeros((number_average, iterations)) #wichtig\n",
    "new_50_0_GA_best_bins = np.zeros((number_average, iterations)) #wichtig\n",
    "new_50_0_GA_worst_bins = np.zeros((number_average, iterations)) #wichtig\n",
    "new_50_0_GA_fitness = np.zeros((number_average, iterations)) #wichtig\n",
    "#new_50_0_PSO_unfit_moves = np.zeros((number_average, iterations)) # <- habe ich nicht \n",
    "#new_50_0_PSO_chaos_moves = np.zeros((number_average, iterations)) # <- habe ich nicht \n",
    "#new_50_0_PSO_heuristic_moves = np.zeros((number_average, iterations)) # <- habe ich nicht \n",
    "\n",
    "# hier der Beispielaufruf für die Funktion\n",
    "for i in range(number_average):\n",
    "    GA = GeneticAlgorithm(new_50_0, new_50_container[0], new_50_container[1])\n",
    "    _, new_50_0_GA_gbest_bins[i], new_50_0_GA_average_bins[i], new_50_0_GA_best_bins, new_50_0_GA_worst_bins, new_50_0_GA_runtime[i], new_50_0_GA_fitness[i]    = GA.run()\n",
    "    print(str(i) + ' done')\n",
    "    \n",
    "name1 = 'Solutions/new_50_0_GA_solution_bins.npy'\n",
    "name2 = 'Solutions/new_50_0_GA_runtime.npy'\n",
    "name3 = 'Solutions/new_50_0_GA_gbest_bins.npy'\n",
    "#name4 = 'Solutions/new_50_0__gbest_fitness.npy'\n",
    "name5 = 'Solutions/new_50_0_GA_average_bins.npy'\n",
    "name6 = 'Solutions/new_50_0_GA_best_bins.npy'\n",
    "name7 = 'Solutions/new_50_0_GA_worst_bins.npy'\n",
    "name8 = 'Solutions/new_50_0_GA_fitness.npy'\n",
    "#name9 = 'Solutions/new_50_0_PSO_unfit_moves.npy'\n",
    "#name10 = 'Solutions/new_50_0_PSO_chaos_moves.npy'\n",
    "#name11 = 'Solutions/new_50_0_PSO_heuristic_moves.npy'\n",
    "\n",
    "#np.save(name1, new_50_0_GA_solution_bins)\n",
    "np.save(name2, new_50_0_GA_runtime)\n",
    "np.save(name3, new_50_0_GA_gbest_bins)\n",
    "#np.save(name4, new_50_0_PSO_gbest_fitness)\n",
    "np.save(name5, new_50_0_GA_average_bins)\n",
    "np.save(name6, new_50_0_GA_best_bins)\n",
    "np.save(name7, new_50_0_GA_worst_bins)\n",
    "np.save(name8, new_50_0_GA_fitness)\n",
    "#np.save(name9, new_50_0_PSO_unfit_moves)\n",
    "#np.save(name10, new_50_0_PSO_chaos_moves)\n",
    "#np.save(name11, new_50_0_PSO_heuristic_moves)"
   ]
  },
  {
   "cell_type": "code",
   "execution_count": 39,
   "metadata": {},
   "outputs": [
    {
     "name": "stdout",
     "output_type": "stream",
     "text": [
      "0 done\n",
      "1 done\n",
      "2 done\n",
      "3 done\n",
      "4 done\n",
      "5 done\n",
      "6 done\n",
      "7 done\n",
      "8 done\n",
      "9 done\n"
     ]
    }
   ],
   "source": [
    "new_50_0_GA_runtime = np.zeros(number_average)\n",
    "new_50_0_GA_gbest_bins = np.zeros((number_average))\n",
    "new_50_0_GA_average_bins = np.zeros((number_average, iterations))\n",
    "new_50_0_GA_best_bins = np.zeros((number_average, iterations))\n",
    "new_50_0_GA_worst_bins = np.zeros((number_average, iterations))\n",
    "new_50_0_GA_fitness = np.zeros((number_average, iterations))\n",
    "\n",
    "for i in range(number_average):\n",
    "    GA = GeneticAlgorithm(new_50_0, new_50_container[0], new_50_container[1])\n",
    "    _, new_50_0_GA_gbest_bins[i], new_50_0_GA_average_bins[i], new_50_0_GA_best_bins, new_50_0_GA_worst_bins, new_50_0_GA_runtime[i], new_50_0_GA_fitness[i] = GA.run()\n",
    "    print(str(i) + ' done')\n",
    "    \n",
    "name1 = 'Solutions/new_50_0_GA_runtime.npy'\n",
    "name2 = 'Solutions/new_50_0_GA_gbest_bins.npy'\n",
    "name3 = 'Solutions/new_50_0_GA_average_bins.npy'\n",
    "name4 = 'Solutions/new_50_0_GA_best_bins.npy'\n",
    "name5 = 'Solutions/new_50_0_GA_worst_bins.npy'\n",
    "name6 = 'Solutions/new_50_0_GA_fitness.npy'\n",
    "\n",
    "np.save(name1, new_50_0_GA_runtime)\n",
    "np.save(name2, new_50_0_GA_gbest_bins)\n",
    "np.save(name3, new_50_0_GA_average_bins)\n",
    "np.save(name4, new_50_0_GA_best_bins)\n",
    "np.save(name5, new_50_0_GA_worst_bins)\n",
    "np.save(name6, new_50_0_GA_fitness)"
   ]
  },
  {
   "cell_type": "markdown",
   "metadata": {},
   "source": [
    "### new_50_1"
   ]
  },
  {
   "cell_type": "code",
   "execution_count": 9,
   "metadata": {},
   "outputs": [
    {
     "name": "stdout",
     "output_type": "stream",
     "text": [
      "0 done\n",
      "1 done\n",
      "2 done\n",
      "3 done\n",
      "4 done\n",
      "5 done\n",
      "6 done\n",
      "7 done\n",
      "8 done\n",
      "9 done\n"
     ]
    }
   ],
   "source": [
    "new_50_1_GA_runtime = np.zeros(number_average)\n",
    "new_50_1_GA_gbest_bins = np.zeros((number_average))\n",
    "new_50_1_GA_average_bins = np.zeros((number_average, iterations))\n",
    "new_50_1_GA_best_bins = np.zeros((number_average, iterations))\n",
    "new_50_1_GA_worst_bins = np.zeros((number_average, iterations))\n",
    "new_50_1_GA_fitness = np.zeros((number_average, iterations))\n",
    "\n",
    "for i in range(number_average):\n",
    "    GA = GeneticAlgorithm(new_50_1, new_50_container[0], new_50_container[1])\n",
    "    _, new_50_1_GA_gbest_bins[i], new_50_1_GA_average_bins[i], new_50_1_GA_best_bins, new_50_1_GA_worst_bins, new_50_1_GA_runtime[i], new_50_1_GA_fitness[i] = GA.run()\n",
    "    print(str(i) + ' done')\n",
    "    \n",
    "name1 = 'Solutions/new_50_1_GA_runtime.npy'\n",
    "name2 = 'Solutions/new_50_1_GA_gbest_bins.npy'\n",
    "name3 = 'Solutions/new_50_1_GA_average_bins.npy'\n",
    "name4 = 'Solutions/new_50_1_GA_best_bins.npy'\n",
    "name5 = 'Solutions/new_50_1_GA_worst_bins.npy'\n",
    "name6 = 'Solutions/new_50_1_GA_fitness.npy'\n",
    "\n",
    "np.save(name1, new_50_1_GA_runtime)\n",
    "np.save(name2, new_50_1_GA_gbest_bins)\n",
    "np.save(name3, new_50_1_GA_average_bins)\n",
    "np.save(name4, new_50_1_GA_best_bins)\n",
    "np.save(name5, new_50_1_GA_worst_bins)\n",
    "np.save(name6, new_50_1_GA_fitness)"
   ]
  },
  {
   "cell_type": "markdown",
   "metadata": {},
   "source": [
    "### new_50_2"
   ]
  },
  {
   "cell_type": "code",
   "execution_count": 10,
   "metadata": {},
   "outputs": [
    {
     "name": "stdout",
     "output_type": "stream",
     "text": [
      "0 done\n",
      "1 done\n",
      "2 done\n",
      "3 done\n",
      "4 done\n",
      "5 done\n",
      "6 done\n",
      "7 done\n",
      "8 done\n",
      "9 done\n"
     ]
    }
   ],
   "source": [
    "new_50_2_GA_runtime = np.zeros(number_average)\n",
    "new_50_2_GA_gbest_bins = np.zeros((number_average))\n",
    "new_50_2_GA_average_bins = np.zeros((number_average, iterations))\n",
    "new_50_2_GA_best_bins = np.zeros((number_average, iterations))\n",
    "new_50_2_GA_worst_bins = np.zeros((number_average, iterations))\n",
    "new_50_2_GA_fitness = np.zeros((number_average, iterations))\n",
    "\n",
    "for i in range(number_average):\n",
    "    GA = GeneticAlgorithm(new_50_2, new_50_container[0], new_50_container[1])\n",
    "    _, new_50_2_GA_gbest_bins[i], new_50_2_GA_average_bins[i], new_50_2_GA_best_bins, new_50_2_GA_worst_bins, new_50_2_GA_runtime[i], new_50_2_GA_fitness[i] = GA.run()\n",
    "    print(str(i) + ' done')\n",
    "    \n",
    "name1 = 'Solutions/new_50_2_GA_runtime.npy'\n",
    "name2 = 'Solutions/new_50_2_GA_gbest_bins.npy'\n",
    "name3 = 'Solutions/new_50_2_GA_average_bins.npy'\n",
    "name4 = 'Solutions/new_50_2_GA_best_bins.npy'\n",
    "name5 = 'Solutions/new_50_2_GA_worst_bins.npy'\n",
    "name6 = 'Solutions/new_50_2_GA_fitness.npy'\n",
    "\n",
    "np.save(name1, new_50_2_GA_runtime)\n",
    "np.save(name2, new_50_2_GA_gbest_bins)\n",
    "np.save(name3, new_50_2_GA_average_bins)\n",
    "np.save(name4, new_50_2_GA_best_bins)\n",
    "np.save(name5, new_50_2_GA_worst_bins)\n",
    "np.save(name6, new_50_2_GA_fitness)"
   ]
  },
  {
   "cell_type": "markdown",
   "metadata": {},
   "source": [
    "### new_50_3"
   ]
  },
  {
   "cell_type": "code",
   "execution_count": 11,
   "metadata": {},
   "outputs": [
    {
     "name": "stdout",
     "output_type": "stream",
     "text": [
      "0 done\n",
      "1 done\n",
      "2 done\n",
      "3 done\n",
      "4 done\n",
      "5 done\n",
      "6 done\n",
      "7 done\n",
      "8 done\n",
      "9 done\n"
     ]
    }
   ],
   "source": [
    "new_50_3_GA_runtime = np.zeros(number_average)\n",
    "new_50_3_GA_gbest_bins = np.zeros((number_average))\n",
    "new_50_3_GA_average_bins = np.zeros((number_average, iterations))\n",
    "new_50_3_GA_best_bins = np.zeros((number_average, iterations))\n",
    "new_50_3_GA_worst_bins = np.zeros((number_average, iterations))\n",
    "new_50_3_GA_fitness = np.zeros((number_average, iterations))\n",
    "\n",
    "for i in range(number_average):\n",
    "    GA = GeneticAlgorithm(new_50_3, new_50_container[0], new_50_container[1])\n",
    "    _, new_50_3_GA_gbest_bins[i], new_50_3_GA_average_bins[i], new_50_3_GA_best_bins, new_50_3_GA_worst_bins, new_50_3_GA_runtime[i], new_50_3_GA_fitness[i] = GA.run()\n",
    "    print(str(i) + ' done')\n",
    "    \n",
    "name1 = 'Solutions/new_50_3_GA_runtime.npy'\n",
    "name2 = 'Solutions/new_50_3_GA_gbest_bins.npy'\n",
    "name3 = 'Solutions/new_50_3_GA_average_bins.npy'\n",
    "name4 = 'Solutions/new_50_3_GA_best_bins.npy'\n",
    "name5 = 'Solutions/new_50_3_GA_worst_bins.npy'\n",
    "name6 = 'Solutions/new_50_3_GA_fitness.npy'\n",
    "\n",
    "np.save(name1, new_50_3_GA_runtime)\n",
    "np.save(name2, new_50_3_GA_gbest_bins)\n",
    "np.save(name3, new_50_3_GA_average_bins)\n",
    "np.save(name4, new_50_3_GA_best_bins)\n",
    "np.save(name5, new_50_3_GA_worst_bins)\n",
    "np.save(name6, new_50_3_GA_fitness)"
   ]
  },
  {
   "cell_type": "markdown",
   "metadata": {},
   "source": [
    "### new_50_4"
   ]
  },
  {
   "cell_type": "code",
   "execution_count": 12,
   "metadata": {},
   "outputs": [
    {
     "name": "stdout",
     "output_type": "stream",
     "text": [
      "0 done\n",
      "1 done\n",
      "2 done\n",
      "3 done\n",
      "4 done\n",
      "5 done\n",
      "6 done\n",
      "7 done\n",
      "8 done\n",
      "9 done\n"
     ]
    }
   ],
   "source": [
    "new_50_4_GA_runtime = np.zeros(number_average)\n",
    "new_50_4_GA_gbest_bins = np.zeros((number_average))\n",
    "new_50_4_GA_average_bins = np.zeros((number_average, iterations))\n",
    "new_50_4_GA_best_bins = np.zeros((number_average, iterations))\n",
    "new_50_4_GA_worst_bins = np.zeros((number_average, iterations))\n",
    "new_50_4_GA_fitness = np.zeros((number_average, iterations))\n",
    "\n",
    "for i in range(number_average):\n",
    "    GA = GeneticAlgorithm(new_50_4, new_50_container[0], new_50_container[1])\n",
    "    _, new_50_4_GA_gbest_bins[i], new_50_4_GA_average_bins[i], new_50_4_GA_best_bins, new_50_4_GA_worst_bins, new_50_4_GA_runtime[i], new_50_4_GA_fitness[i] = GA.run()\n",
    "    print(str(i) + ' done')\n",
    "    \n",
    "name1 = 'Solutions/new_50_4_GA_runtime.npy'\n",
    "name2 = 'Solutions/new_50_4_GA_gbest_bins.npy'\n",
    "name3 = 'Solutions/new_50_4_GA_average_bins.npy'\n",
    "name4 = 'Solutions/new_50_4_GA_best_bins.npy'\n",
    "name5 = 'Solutions/new_50_4_GA_worst_bins.npy'\n",
    "name6 = 'Solutions/new_50_4_GA_fitness.npy'\n",
    "\n",
    "np.save(name1, new_50_4_GA_runtime)\n",
    "np.save(name2, new_50_4_GA_gbest_bins)\n",
    "np.save(name3, new_50_4_GA_average_bins)\n",
    "np.save(name4, new_50_4_GA_best_bins)\n",
    "np.save(name5, new_50_4_GA_worst_bins)\n",
    "np.save(name6, new_50_4_GA_fitness)"
   ]
  },
  {
   "cell_type": "markdown",
   "metadata": {},
   "source": [
    "### new_50_5"
   ]
  },
  {
   "cell_type": "code",
   "execution_count": 13,
   "metadata": {},
   "outputs": [
    {
     "name": "stdout",
     "output_type": "stream",
     "text": [
      "0 done\n",
      "1 done\n",
      "2 done\n",
      "3 done\n",
      "4 done\n",
      "5 done\n",
      "6 done\n",
      "7 done\n",
      "8 done\n",
      "9 done\n"
     ]
    }
   ],
   "source": [
    "new_50_5_GA_runtime = np.zeros(number_average)\n",
    "new_50_5_GA_gbest_bins = np.zeros((number_average))\n",
    "new_50_5_GA_average_bins = np.zeros((number_average, iterations))\n",
    "new_50_5_GA_best_bins = np.zeros((number_average, iterations))\n",
    "new_50_5_GA_worst_bins = np.zeros((number_average, iterations))\n",
    "new_50_5_GA_fitness = np.zeros((number_average, iterations))\n",
    "\n",
    "for i in range(number_average):\n",
    "    GA = GeneticAlgorithm(new_50_5, new_50_container[0], new_50_container[1])\n",
    "    _, new_50_5_GA_gbest_bins[i], new_50_5_GA_average_bins[i], new_50_5_GA_best_bins, new_50_5_GA_worst_bins, new_50_5_GA_runtime[i], new_50_5_GA_fitness[i] = GA.run()\n",
    "    print(str(i) + ' done')\n",
    "    \n",
    "name1 = 'Solutions/new_50_5_GA_runtime.npy'\n",
    "name2 = 'Solutions/new_50_5_GA_gbest_bins.npy'\n",
    "name3 = 'Solutions/new_50_5_GA_average_bins.npy'\n",
    "name4 = 'Solutions/new_50_5_GA_best_bins.npy'\n",
    "name5 = 'Solutions/new_50_5_GA_worst_bins.npy'\n",
    "name6 = 'Solutions/new_50_5_GA_fitness.npy'\n",
    "\n",
    "np.save(name1, new_50_5_GA_runtime)\n",
    "np.save(name2, new_50_5_GA_gbest_bins)\n",
    "np.save(name3, new_50_5_GA_average_bins)\n",
    "np.save(name4, new_50_5_GA_best_bins)\n",
    "np.save(name5, new_50_5_GA_worst_bins)\n",
    "np.save(name6, new_50_5_GA_fitness)"
   ]
  },
  {
   "cell_type": "markdown",
   "metadata": {},
   "source": [
    "### new_50_6"
   ]
  },
  {
   "cell_type": "code",
   "execution_count": 14,
   "metadata": {},
   "outputs": [
    {
     "name": "stdout",
     "output_type": "stream",
     "text": [
      "0 done\n",
      "1 done\n",
      "2 done\n",
      "3 done\n",
      "4 done\n",
      "5 done\n",
      "6 done\n",
      "7 done\n",
      "8 done\n",
      "9 done\n"
     ]
    }
   ],
   "source": [
    "new_50_6_GA_runtime = np.zeros(number_average)\n",
    "new_50_6_GA_gbest_bins = np.zeros((number_average))\n",
    "new_50_6_GA_average_bins = np.zeros((number_average, iterations))\n",
    "new_50_6_GA_best_bins = np.zeros((number_average, iterations))\n",
    "new_50_6_GA_worst_bins = np.zeros((number_average, iterations))\n",
    "new_50_6_GA_fitness = np.zeros((number_average, iterations))\n",
    "\n",
    "for i in range(number_average):\n",
    "    GA = GeneticAlgorithm(new_50_6, new_50_container[0], new_50_container[1])\n",
    "    _, new_50_6_GA_gbest_bins[i], new_50_6_GA_average_bins[i], new_50_6_GA_best_bins, new_50_6_GA_worst_bins, new_50_6_GA_runtime[i], new_50_6_GA_fitness[i] = GA.run()\n",
    "    print(str(i) + ' done')\n",
    "    \n",
    "name1 = 'Solutions/new_50_6_GA_runtime.npy'\n",
    "name2 = 'Solutions/new_50_6_GA_gbest_bins.npy'\n",
    "name3 = 'Solutions/new_50_6_GA_average_bins.npy'\n",
    "name4 = 'Solutions/new_50_6_GA_best_bins.npy'\n",
    "name5 = 'Solutions/new_50_6_GA_worst_bins.npy'\n",
    "name6 = 'Solutions/new_50_6_GA_fitness.npy'\n",
    "\n",
    "np.save(name1, new_50_6_GA_runtime)\n",
    "np.save(name2, new_50_6_GA_gbest_bins)\n",
    "np.save(name3, new_50_6_GA_average_bins)\n",
    "np.save(name4, new_50_6_GA_best_bins)\n",
    "np.save(name5, new_50_6_GA_worst_bins)\n",
    "np.save(name6, new_50_6_GA_fitness)"
   ]
  },
  {
   "cell_type": "markdown",
   "metadata": {},
   "source": [
    "### new_50_7"
   ]
  },
  {
   "cell_type": "code",
   "execution_count": 15,
   "metadata": {},
   "outputs": [
    {
     "name": "stdout",
     "output_type": "stream",
     "text": [
      "0 done\n",
      "1 done\n",
      "2 done\n",
      "3 done\n",
      "4 done\n",
      "5 done\n",
      "6 done\n",
      "7 done\n",
      "8 done\n",
      "9 done\n"
     ]
    }
   ],
   "source": [
    "new_50_7_GA_runtime = np.zeros(number_average)\n",
    "new_50_7_GA_gbest_bins = np.zeros((number_average))\n",
    "new_50_7_GA_average_bins = np.zeros((number_average, iterations))\n",
    "new_50_7_GA_best_bins = np.zeros((number_average, iterations))\n",
    "new_50_7_GA_worst_bins = np.zeros((number_average, iterations))\n",
    "new_50_7_GA_fitness = np.zeros((number_average, iterations))\n",
    "\n",
    "for i in range(number_average):\n",
    "    GA = GeneticAlgorithm(new_50_7, new_50_container[0], new_50_container[1])\n",
    "    _, new_50_7_GA_gbest_bins[i], new_50_7_GA_average_bins[i], new_50_7_GA_best_bins, new_50_7_GA_worst_bins, new_50_7_GA_runtime[i], new_50_7_GA_fitness[i] = GA.run()\n",
    "    print(str(i) + ' done')\n",
    "    \n",
    "name1 = 'Solutions/new_50_7_GA_runtime.npy'\n",
    "name2 = 'Solutions/new_50_7_GA_gbest_bins.npy'\n",
    "name3 = 'Solutions/new_50_7_GA_average_bins.npy'\n",
    "name4 = 'Solutions/new_50_7_GA_best_bins.npy'\n",
    "name5 = 'Solutions/new_50_7_GA_worst_bins.npy'\n",
    "name6 = 'Solutions/new_50_7_GA_fitness.npy'\n",
    "\n",
    "np.save(name1, new_50_7_GA_runtime)\n",
    "np.save(name2, new_50_7_GA_gbest_bins)\n",
    "np.save(name3, new_50_7_GA_average_bins)\n",
    "np.save(name4, new_50_7_GA_best_bins)\n",
    "np.save(name5, new_50_7_GA_worst_bins)\n",
    "np.save(name6, new_50_7_GA_fitness)"
   ]
  },
  {
   "cell_type": "markdown",
   "metadata": {},
   "source": [
    "### new_50_8"
   ]
  },
  {
   "cell_type": "code",
   "execution_count": 16,
   "metadata": {},
   "outputs": [
    {
     "name": "stdout",
     "output_type": "stream",
     "text": [
      "0 done\n",
      "1 done\n",
      "2 done\n",
      "3 done\n",
      "4 done\n",
      "5 done\n",
      "6 done\n",
      "7 done\n",
      "8 done\n",
      "9 done\n"
     ]
    }
   ],
   "source": [
    "new_50_8_GA_runtime = np.zeros(number_average)\n",
    "new_50_8_GA_gbest_bins = np.zeros((number_average))\n",
    "new_50_8_GA_average_bins = np.zeros((number_average, iterations))\n",
    "new_50_8_GA_best_bins = np.zeros((number_average, iterations))\n",
    "new_50_8_GA_worst_bins = np.zeros((number_average, iterations))\n",
    "new_50_8_GA_fitness = np.zeros((number_average, iterations))\n",
    "\n",
    "for i in range(number_average):\n",
    "    GA = GeneticAlgorithm(new_50_8, new_50_container[0], new_50_container[1])\n",
    "    _, new_50_8_GA_gbest_bins[i], new_50_8_GA_average_bins[i], new_50_8_GA_best_bins, new_50_8_GA_worst_bins, new_50_8_GA_runtime[i], new_50_8_GA_fitness[i] = GA.run()\n",
    "    print(str(i) + ' done')\n",
    "    \n",
    "name1 = 'Solutions/new_50_8_GA_runtime.npy'\n",
    "name2 = 'Solutions/new_50_8_GA_gbest_bins.npy'\n",
    "name3 = 'Solutions/new_50_8_GA_average_bins.npy'\n",
    "name4 = 'Solutions/new_50_8_GA_best_bins.npy'\n",
    "name5 = 'Solutions/new_50_8_GA_worst_bins.npy'\n",
    "name6 = 'Solutions/new_50_8_GA_fitness.npy'\n",
    "\n",
    "np.save(name1, new_50_8_GA_runtime)\n",
    "np.save(name2, new_50_8_GA_gbest_bins)\n",
    "np.save(name3, new_50_8_GA_average_bins)\n",
    "np.save(name4, new_50_8_GA_best_bins)\n",
    "np.save(name5, new_50_8_GA_worst_bins)\n",
    "np.save(name6, new_50_8_GA_fitness)"
   ]
  },
  {
   "cell_type": "markdown",
   "metadata": {},
   "source": [
    "### new_50_9"
   ]
  },
  {
   "cell_type": "code",
   "execution_count": 17,
   "metadata": {},
   "outputs": [
    {
     "name": "stdout",
     "output_type": "stream",
     "text": [
      "0 done\n",
      "1 done\n",
      "2 done\n",
      "3 done\n",
      "4 done\n",
      "5 done\n",
      "6 done\n",
      "7 done\n",
      "8 done\n",
      "9 done\n"
     ]
    }
   ],
   "source": [
    "new_50_9_GA_runtime = np.zeros(number_average)\n",
    "new_50_9_GA_gbest_bins = np.zeros((number_average))\n",
    "new_50_9_GA_average_bins = np.zeros((number_average, iterations))\n",
    "new_50_9_GA_best_bins = np.zeros((number_average, iterations))\n",
    "new_50_9_GA_worst_bins = np.zeros((number_average, iterations))\n",
    "new_50_9_GA_fitness = np.zeros((number_average, iterations))\n",
    "\n",
    "for i in range(number_average):\n",
    "    GA = GeneticAlgorithm(new_50_9, new_50_container[0], new_50_container[1])\n",
    "    _, new_50_9_GA_gbest_bins[i], new_50_9_GA_average_bins[i], new_50_9_GA_best_bins, new_50_9_GA_worst_bins, new_50_9_GA_runtime[i], new_50_9_GA_fitness[i] = GA.run()\n",
    "    print(str(i) + ' done')\n",
    "    \n",
    "name1 = 'Solutions/new_50_9_GA_runtime.npy'\n",
    "name2 = 'Solutions/new_50_9_GA_gbest_bins.npy'\n",
    "name3 = 'Solutions/new_50_9_GA_average_bins.npy'\n",
    "name4 = 'Solutions/new_50_9_GA_best_bins.npy'\n",
    "name5 = 'Solutions/new_50_9_GA_worst_bins.npy'\n",
    "name6 = 'Solutions/new_50_9_GA_fitness.npy'\n",
    "\n",
    "np.save(name1, new_50_9_GA_runtime)\n",
    "np.save(name2, new_50_9_GA_gbest_bins)\n",
    "np.save(name3, new_50_9_GA_average_bins)\n",
    "np.save(name4, new_50_9_GA_best_bins)\n",
    "np.save(name5, new_50_9_GA_worst_bins)\n",
    "np.save(name6, new_50_9_GA_fitness)"
   ]
  },
  {
   "cell_type": "markdown",
   "metadata": {},
   "source": [
    "## new_100"
   ]
  },
  {
   "cell_type": "markdown",
   "metadata": {},
   "source": [
    "### new_100_0"
   ]
  },
  {
   "cell_type": "code",
   "execution_count": 18,
   "metadata": {},
   "outputs": [
    {
     "name": "stdout",
     "output_type": "stream",
     "text": [
      "0 done\n",
      "1 done\n",
      "2 done\n",
      "3 done\n",
      "4 done\n",
      "5 done\n",
      "6 done\n",
      "7 done\n",
      "8 done\n",
      "9 done\n"
     ]
    }
   ],
   "source": [
    "new_100_0_GA_runtime = np.zeros(number_average)\n",
    "new_100_0_GA_gbest_bins = np.zeros((number_average))\n",
    "new_100_0_GA_average_bins = np.zeros((number_average, iterations))\n",
    "new_100_0_GA_best_bins = np.zeros((number_average, iterations))\n",
    "new_100_0_GA_worst_bins = np.zeros((number_average, iterations))\n",
    "new_100_0_GA_fitness = np.zeros((number_average, iterations))\n",
    "\n",
    "for i in range(number_average):\n",
    "    GA = GeneticAlgorithm(new_100_0, new_100_container[0], new_100_container[1])\n",
    "    _, new_100_0_GA_gbest_bins[i], new_100_0_GA_average_bins[i], new_100_0_GA_best_bins, new_100_0_GA_worst_bins, new_100_0_GA_runtime[i], new_100_0_GA_fitness[i] = GA.run()\n",
    "    print(str(i) + ' done')\n",
    "    \n",
    "name1 = 'Solutions/new_100_0_GA_runtime.npy'\n",
    "name2 = 'Solutions/new_100_0_GA_gbest_bins.npy'\n",
    "name3 = 'Solutions/new_100_0_GA_average_bins.npy'\n",
    "name4 = 'Solutions/new_100_0_GA_best_bins.npy'\n",
    "name5 = 'Solutions/new_100_0_GA_worst_bins.npy'\n",
    "name6 = 'Solutions/new_100_0_GA_fitness.npy'\n",
    "\n",
    "np.save(name1, new_100_0_GA_runtime)\n",
    "np.save(name2, new_100_0_GA_gbest_bins)\n",
    "np.save(name3, new_100_0_GA_average_bins)\n",
    "np.save(name4, new_100_0_GA_best_bins)\n",
    "np.save(name5, new_100_0_GA_worst_bins)\n",
    "np.save(name6, new_100_0_GA_fitness)"
   ]
  },
  {
   "cell_type": "markdown",
   "metadata": {},
   "source": [
    "### new_100_1"
   ]
  },
  {
   "cell_type": "code",
   "execution_count": 19,
   "metadata": {},
   "outputs": [
    {
     "name": "stdout",
     "output_type": "stream",
     "text": [
      "0 done\n",
      "1 done\n",
      "2 done\n",
      "3 done\n",
      "4 done\n",
      "5 done\n",
      "6 done\n",
      "7 done\n",
      "8 done\n",
      "9 done\n"
     ]
    }
   ],
   "source": [
    "new_100_1_GA_runtime = np.zeros(number_average)\n",
    "new_100_1_GA_gbest_bins = np.zeros((number_average))\n",
    "new_100_1_GA_average_bins = np.zeros((number_average, iterations))\n",
    "new_100_1_GA_best_bins = np.zeros((number_average, iterations))\n",
    "new_100_1_GA_worst_bins = np.zeros((number_average, iterations))\n",
    "new_100_1_GA_fitness = np.zeros((number_average, iterations))\n",
    "\n",
    "for i in range(number_average):\n",
    "    GA = GeneticAlgorithm(new_100_1, new_100_container[0], new_100_container[1])\n",
    "    _, new_100_1_GA_gbest_bins[i], new_100_1_GA_average_bins[i], new_100_1_GA_best_bins, new_100_1_GA_worst_bins, new_100_1_GA_runtime[i], new_100_1_GA_fitness[i] = GA.run()\n",
    "    print(str(i) + ' done')\n",
    "    \n",
    "name1 = 'Solutions/new_100_1_GA_runtime.npy'\n",
    "name2 = 'Solutions/new_100_1_GA_gbest_bins.npy'\n",
    "name3 = 'Solutions/new_100_1_GA_average_bins.npy'\n",
    "name4 = 'Solutions/new_100_1_GA_best_bins.npy'\n",
    "name5 = 'Solutions/new_100_1_GA_worst_bins.npy'\n",
    "name6 = 'Solutions/new_100_1_GA_fitness.npy'\n",
    "\n",
    "np.save(name1, new_100_1_GA_runtime)\n",
    "np.save(name2, new_100_1_GA_gbest_bins)\n",
    "np.save(name3, new_100_1_GA_average_bins)\n",
    "np.save(name4, new_100_1_GA_best_bins)\n",
    "np.save(name5, new_100_1_GA_worst_bins)\n",
    "np.save(name6, new_100_1_GA_fitness)"
   ]
  },
  {
   "cell_type": "markdown",
   "metadata": {},
   "source": [
    "### new_100_2"
   ]
  },
  {
   "cell_type": "code",
   "execution_count": 20,
   "metadata": {},
   "outputs": [
    {
     "name": "stdout",
     "output_type": "stream",
     "text": [
      "0 done\n",
      "1 done\n",
      "2 done\n",
      "3 done\n",
      "4 done\n",
      "5 done\n",
      "6 done\n",
      "7 done\n",
      "8 done\n",
      "9 done\n"
     ]
    }
   ],
   "source": [
    "new_100_2_GA_runtime = np.zeros(number_average)\n",
    "new_100_2_GA_gbest_bins = np.zeros((number_average))\n",
    "new_100_2_GA_average_bins = np.zeros((number_average, iterations))\n",
    "new_100_2_GA_best_bins = np.zeros((number_average, iterations))\n",
    "new_100_2_GA_worst_bins = np.zeros((number_average, iterations))\n",
    "new_100_2_GA_fitness = np.zeros((number_average, iterations))\n",
    "\n",
    "for i in range(number_average):\n",
    "    GA = GeneticAlgorithm(new_100_2, new_100_container[0], new_100_container[1])\n",
    "    _, new_100_2_GA_gbest_bins[i], new_100_2_GA_average_bins[i], new_100_2_GA_best_bins, new_100_2_GA_worst_bins, new_100_2_GA_runtime[i], new_100_2_GA_fitness[i] = GA.run()\n",
    "    print(str(i) + ' done')\n",
    "    \n",
    "name1 = 'Solutions/new_100_2_GA_runtime.npy'\n",
    "name2 = 'Solutions/new_100_2_GA_gbest_bins.npy'\n",
    "name3 = 'Solutions/new_100_2_GA_average_bins.npy'\n",
    "name4 = 'Solutions/new_100_2_GA_best_bins.npy'\n",
    "name5 = 'Solutions/new_100_2_GA_worst_bins.npy'\n",
    "name6 = 'Solutions/new_100_2_GA_fitness.npy'\n",
    "\n",
    "np.save(name1, new_100_2_GA_runtime)\n",
    "np.save(name2, new_100_2_GA_gbest_bins)\n",
    "np.save(name3, new_100_2_GA_average_bins)\n",
    "np.save(name4, new_100_2_GA_best_bins)\n",
    "np.save(name5, new_100_2_GA_worst_bins)\n",
    "np.save(name6, new_100_2_GA_fitness)"
   ]
  },
  {
   "cell_type": "markdown",
   "metadata": {},
   "source": [
    "### new_100_3"
   ]
  },
  {
   "cell_type": "code",
   "execution_count": 21,
   "metadata": {},
   "outputs": [
    {
     "name": "stdout",
     "output_type": "stream",
     "text": [
      "0 done\n",
      "1 done\n",
      "2 done\n",
      "3 done\n",
      "4 done\n",
      "5 done\n",
      "6 done\n",
      "7 done\n",
      "8 done\n",
      "9 done\n"
     ]
    }
   ],
   "source": [
    "new_100_3_GA_runtime = np.zeros(number_average)\n",
    "new_100_3_GA_gbest_bins = np.zeros((number_average))\n",
    "new_100_3_GA_average_bins = np.zeros((number_average, iterations))\n",
    "new_100_3_GA_best_bins = np.zeros((number_average, iterations))\n",
    "new_100_3_GA_worst_bins = np.zeros((number_average, iterations))\n",
    "new_100_3_GA_fitness = np.zeros((number_average, iterations))\n",
    "\n",
    "for i in range(number_average):\n",
    "    GA = GeneticAlgorithm(new_100_3, new_100_container[0], new_100_container[1])\n",
    "    _, new_100_3_GA_gbest_bins[i], new_100_3_GA_average_bins[i], new_100_3_GA_best_bins, new_100_3_GA_worst_bins, new_100_3_GA_runtime[i], new_100_3_GA_fitness[i] = GA.run()\n",
    "    print(str(i) + ' done')\n",
    "    \n",
    "name1 = 'Solutions/new_100_3_GA_runtime.npy'\n",
    "name2 = 'Solutions/new_100_3_GA_gbest_bins.npy'\n",
    "name3 = 'Solutions/new_100_3_GA_average_bins.npy'\n",
    "name4 = 'Solutions/new_100_3_GA_best_bins.npy'\n",
    "name5 = 'Solutions/new_100_3_GA_worst_bins.npy'\n",
    "name6 = 'Solutions/new_100_3_GA_fitness.npy'\n",
    "\n",
    "np.save(name1, new_100_3_GA_runtime)\n",
    "np.save(name2, new_100_3_GA_gbest_bins)\n",
    "np.save(name3, new_100_3_GA_average_bins)\n",
    "np.save(name4, new_100_3_GA_best_bins)\n",
    "np.save(name5, new_100_3_GA_worst_bins)\n",
    "np.save(name6, new_100_3_GA_fitness)"
   ]
  },
  {
   "cell_type": "markdown",
   "metadata": {},
   "source": [
    "### new_100_4"
   ]
  },
  {
   "cell_type": "code",
   "execution_count": 22,
   "metadata": {},
   "outputs": [
    {
     "name": "stdout",
     "output_type": "stream",
     "text": [
      "0 done\n",
      "1 done\n",
      "2 done\n",
      "3 done\n",
      "4 done\n",
      "5 done\n",
      "6 done\n",
      "7 done\n",
      "8 done\n",
      "9 done\n"
     ]
    }
   ],
   "source": [
    "new_100_4_GA_runtime = np.zeros(number_average)\n",
    "new_100_4_GA_gbest_bins = np.zeros((number_average))\n",
    "new_100_4_GA_average_bins = np.zeros((number_average, iterations))\n",
    "new_100_4_GA_best_bins = np.zeros((number_average, iterations))\n",
    "new_100_4_GA_worst_bins = np.zeros((number_average, iterations))\n",
    "new_100_4_GA_fitness = np.zeros((number_average, iterations))\n",
    "\n",
    "for i in range(number_average):\n",
    "    GA = GeneticAlgorithm(new_100_4, new_100_container[0], new_100_container[1])\n",
    "    _, new_100_4_GA_gbest_bins[i], new_100_4_GA_average_bins[i], new_100_4_GA_best_bins, new_100_4_GA_worst_bins, new_100_4_GA_runtime[i], new_100_4_GA_fitness[i] = GA.run()\n",
    "    print(str(i) + ' done')\n",
    "    \n",
    "name1 = 'Solutions/new_100_4_GA_runtime.npy'\n",
    "name2 = 'Solutions/new_100_4_GA_gbest_bins.npy'\n",
    "name3 = 'Solutions/new_100_4_GA_average_bins.npy'\n",
    "name4 = 'Solutions/new_100_4_GA_best_bins.npy'\n",
    "name5 = 'Solutions/new_100_4_GA_worst_bins.npy'\n",
    "name6 = 'Solutions/new_100_4_GA_fitness.npy'\n",
    "\n",
    "np.save(name1, new_100_4_GA_runtime)\n",
    "np.save(name2, new_100_4_GA_gbest_bins)\n",
    "np.save(name3, new_100_4_GA_average_bins)\n",
    "np.save(name4, new_100_4_GA_best_bins)\n",
    "np.save(name5, new_100_4_GA_worst_bins)\n",
    "np.save(name6, new_100_4_GA_fitness)"
   ]
  },
  {
   "cell_type": "markdown",
   "metadata": {},
   "source": [
    "### new_100_5"
   ]
  },
  {
   "cell_type": "code",
   "execution_count": 23,
   "metadata": {},
   "outputs": [
    {
     "name": "stdout",
     "output_type": "stream",
     "text": [
      "0 done\n",
      "1 done\n",
      "2 done\n",
      "3 done\n",
      "4 done\n",
      "5 done\n",
      "6 done\n",
      "7 done\n",
      "8 done\n",
      "9 done\n"
     ]
    }
   ],
   "source": [
    "new_100_5_GA_runtime = np.zeros(number_average)\n",
    "new_100_5_GA_gbest_bins = np.zeros((number_average))\n",
    "new_100_5_GA_average_bins = np.zeros((number_average, iterations))\n",
    "new_100_5_GA_best_bins = np.zeros((number_average, iterations))\n",
    "new_100_5_GA_worst_bins = np.zeros((number_average, iterations))\n",
    "new_100_5_GA_fitness = np.zeros((number_average, iterations))\n",
    "\n",
    "for i in range(number_average):\n",
    "    GA = GeneticAlgorithm(new_100_5, new_100_container[0], new_100_container[1])\n",
    "    _, new_100_5_GA_gbest_bins[i], new_100_5_GA_average_bins[i], new_100_5_GA_best_bins, new_100_5_GA_worst_bins, new_100_5_GA_runtime[i], new_100_5_GA_fitness[i] = GA.run()\n",
    "    print(str(i) + ' done')\n",
    "    \n",
    "name1 = 'Solutions/new_100_5_GA_runtime.npy'\n",
    "name2 = 'Solutions/new_100_5_GA_gbest_bins.npy'\n",
    "name3 = 'Solutions/new_100_5_GA_average_bins.npy'\n",
    "name4 = 'Solutions/new_100_5_GA_best_bins.npy'\n",
    "name5 = 'Solutions/new_100_5_GA_worst_bins.npy'\n",
    "name6 = 'Solutions/new_100_5_GA_fitness.npy'\n",
    "\n",
    "np.save(name1, new_100_5_GA_runtime)\n",
    "np.save(name2, new_100_5_GA_gbest_bins)\n",
    "np.save(name3, new_100_5_GA_average_bins)\n",
    "np.save(name4, new_100_5_GA_best_bins)\n",
    "np.save(name5, new_100_5_GA_worst_bins)\n",
    "np.save(name6, new_100_5_GA_fitness)"
   ]
  },
  {
   "cell_type": "markdown",
   "metadata": {},
   "source": [
    "### new_100_6"
   ]
  },
  {
   "cell_type": "code",
   "execution_count": 24,
   "metadata": {},
   "outputs": [
    {
     "name": "stdout",
     "output_type": "stream",
     "text": [
      "0 done\n",
      "1 done\n",
      "2 done\n",
      "3 done\n",
      "4 done\n",
      "5 done\n",
      "6 done\n",
      "7 done\n",
      "8 done\n",
      "9 done\n"
     ]
    }
   ],
   "source": [
    "new_100_6_GA_runtime = np.zeros(number_average)\n",
    "new_100_6_GA_gbest_bins = np.zeros((number_average))\n",
    "new_100_6_GA_average_bins = np.zeros((number_average, iterations))\n",
    "new_100_6_GA_best_bins = np.zeros((number_average, iterations))\n",
    "new_100_6_GA_worst_bins = np.zeros((number_average, iterations))\n",
    "new_100_6_GA_fitness = np.zeros((number_average, iterations))\n",
    "\n",
    "for i in range(number_average):\n",
    "    GA = GeneticAlgorithm(new_100_6, new_100_container[0], new_100_container[1])\n",
    "    _, new_100_6_GA_gbest_bins[i], new_100_6_GA_average_bins[i], new_100_6_GA_best_bins, new_100_6_GA_worst_bins, new_100_6_GA_runtime[i], new_100_6_GA_fitness[i] = GA.run()\n",
    "    print(str(i) + ' done')\n",
    "    \n",
    "name1 = 'Solutions/new_100_6_GA_runtime.npy'\n",
    "name2 = 'Solutions/new_100_6_GA_gbest_bins.npy'\n",
    "name3 = 'Solutions/new_100_6_GA_average_bins.npy'\n",
    "name4 = 'Solutions/new_100_6_GA_best_bins.npy'\n",
    "name5 = 'Solutions/new_100_6_GA_worst_bins.npy'\n",
    "name6 = 'Solutions/new_100_6_GA_fitness.npy'\n",
    "\n",
    "np.save(name1, new_100_6_GA_runtime)\n",
    "np.save(name2, new_100_6_GA_gbest_bins)\n",
    "np.save(name3, new_100_6_GA_average_bins)\n",
    "np.save(name4, new_100_6_GA_best_bins)\n",
    "np.save(name5, new_100_6_GA_worst_bins)\n",
    "np.save(name6, new_100_6_GA_fitness)"
   ]
  },
  {
   "cell_type": "markdown",
   "metadata": {},
   "source": [
    "### new_100_7"
   ]
  },
  {
   "cell_type": "code",
   "execution_count": 25,
   "metadata": {},
   "outputs": [
    {
     "name": "stdout",
     "output_type": "stream",
     "text": [
      "0 done\n",
      "1 done\n",
      "2 done\n",
      "3 done\n",
      "4 done\n",
      "5 done\n",
      "6 done\n",
      "7 done\n",
      "8 done\n",
      "9 done\n"
     ]
    }
   ],
   "source": [
    "new_100_7_GA_runtime = np.zeros(number_average)\n",
    "new_100_7_GA_gbest_bins = np.zeros((number_average))\n",
    "new_100_7_GA_average_bins = np.zeros((number_average, iterations))\n",
    "new_100_7_GA_best_bins = np.zeros((number_average, iterations))\n",
    "new_100_7_GA_worst_bins = np.zeros((number_average, iterations))\n",
    "new_100_7_GA_fitness = np.zeros((number_average, iterations))\n",
    "\n",
    "for i in range(number_average):\n",
    "    GA = GeneticAlgorithm(new_100_7, new_100_container[0], new_100_container[1])\n",
    "    _, new_100_7_GA_gbest_bins[i], new_100_7_GA_average_bins[i], new_100_7_GA_best_bins, new_100_7_GA_worst_bins, new_100_7_GA_runtime[i], new_100_7_GA_fitness[i] = GA.run()\n",
    "    print(str(i) + ' done')\n",
    "    \n",
    "name1 = 'Solutions/new_100_7_GA_runtime.npy'\n",
    "name2 = 'Solutions/new_100_7_GA_gbest_bins.npy'\n",
    "name3 = 'Solutions/new_100_7_GA_average_bins.npy'\n",
    "name4 = 'Solutions/new_100_7_GA_best_bins.npy'\n",
    "name5 = 'Solutions/new_100_7_GA_worst_bins.npy'\n",
    "name6 = 'Solutions/new_100_7_GA_fitness.npy'\n",
    "\n",
    "np.save(name1, new_100_7_GA_runtime)\n",
    "np.save(name2, new_100_7_GA_gbest_bins)\n",
    "np.save(name3, new_100_7_GA_average_bins)\n",
    "np.save(name4, new_100_7_GA_best_bins)\n",
    "np.save(name5, new_100_7_GA_worst_bins)\n",
    "np.save(name6, new_100_7_GA_fitness)"
   ]
  },
  {
   "cell_type": "markdown",
   "metadata": {},
   "source": [
    "### new_100_8"
   ]
  },
  {
   "cell_type": "code",
   "execution_count": 26,
   "metadata": {},
   "outputs": [
    {
     "name": "stdout",
     "output_type": "stream",
     "text": [
      "0 done\n",
      "1 done\n",
      "2 done\n",
      "3 done\n",
      "4 done\n",
      "5 done\n",
      "6 done\n",
      "7 done\n",
      "8 done\n",
      "9 done\n"
     ]
    }
   ],
   "source": [
    "new_100_8_GA_runtime = np.zeros(number_average)\n",
    "new_100_8_GA_gbest_bins = np.zeros((number_average))\n",
    "new_100_8_GA_average_bins = np.zeros((number_average, iterations))\n",
    "new_100_8_GA_best_bins = np.zeros((number_average, iterations))\n",
    "new_100_8_GA_worst_bins = np.zeros((number_average, iterations))\n",
    "new_100_8_GA_fitness = np.zeros((number_average, iterations))\n",
    "\n",
    "for i in range(number_average):\n",
    "    GA = GeneticAlgorithm(new_100_8, new_100_container[0], new_100_container[1])\n",
    "    _, new_100_8_GA_gbest_bins[i], new_100_8_GA_average_bins[i], new_100_8_GA_best_bins, new_100_8_GA_worst_bins, new_100_8_GA_runtime[i], new_100_8_GA_fitness[i] = GA.run()\n",
    "    print(str(i) + ' done')\n",
    "    \n",
    "name1 = 'Solutions/new_100_8_GA_runtime.npy'\n",
    "name2 = 'Solutions/new_100_8_GA_gbest_bins.npy'\n",
    "name3 = 'Solutions/new_100_8_GA_average_bins.npy'\n",
    "name4 = 'Solutions/new_100_8_GA_best_bins.npy'\n",
    "name5 = 'Solutions/new_100_8_GA_worst_bins.npy'\n",
    "name6 = 'Solutions/new_100_8_GA_fitness.npy'\n",
    "\n",
    "np.save(name1, new_100_8_GA_runtime)\n",
    "np.save(name2, new_100_8_GA_gbest_bins)\n",
    "np.save(name3, new_100_8_GA_average_bins)\n",
    "np.save(name4, new_100_8_GA_best_bins)\n",
    "np.save(name5, new_100_8_GA_worst_bins)\n",
    "np.save(name6, new_100_8_GA_fitness)"
   ]
  },
  {
   "cell_type": "markdown",
   "metadata": {},
   "source": [
    "### new_100_9"
   ]
  },
  {
   "cell_type": "code",
   "execution_count": 27,
   "metadata": {},
   "outputs": [
    {
     "name": "stdout",
     "output_type": "stream",
     "text": [
      "0 done\n",
      "1 done\n",
      "2 done\n",
      "3 done\n",
      "4 done\n",
      "5 done\n",
      "6 done\n",
      "7 done\n",
      "8 done\n",
      "9 done\n"
     ]
    }
   ],
   "source": [
    "new_100_9_GA_runtime = np.zeros(number_average)\n",
    "new_100_9_GA_gbest_bins = np.zeros((number_average))\n",
    "new_100_9_GA_average_bins = np.zeros((number_average, iterations))\n",
    "new_100_9_GA_best_bins = np.zeros((number_average, iterations))\n",
    "new_100_9_GA_worst_bins = np.zeros((number_average, iterations))\n",
    "new_100_9_GA_fitness = np.zeros((number_average, iterations))\n",
    "\n",
    "for i in range(number_average):\n",
    "    GA = GeneticAlgorithm(new_100_9, new_100_container[0], new_100_container[1])\n",
    "    _, new_100_9_GA_gbest_bins[i], new_100_9_GA_average_bins[i], new_100_9_GA_best_bins, new_100_9_GA_worst_bins, new_100_9_GA_runtime[i], new_100_9_GA_fitness[i] = GA.run()\n",
    "    print(str(i) + ' done')\n",
    "    \n",
    "name1 = 'Solutions/new_100_9_GA_runtime.npy'\n",
    "name2 = 'Solutions/new_100_9_GA_gbest_bins.npy'\n",
    "name3 = 'Solutions/new_100_9_GA_average_bins.npy'\n",
    "name4 = 'Solutions/new_100_9_GA_best_bins.npy'\n",
    "name5 = 'Solutions/new_100_9_GA_worst_bins.npy'\n",
    "name6 = 'Solutions/new_100_9_GA_fitness.npy'\n",
    "\n",
    "np.save(name1, new_100_9_GA_runtime)\n",
    "np.save(name2, new_100_9_GA_gbest_bins)\n",
    "np.save(name3, new_100_9_GA_average_bins)\n",
    "np.save(name4, new_100_9_GA_best_bins)\n",
    "np.save(name5, new_100_9_GA_worst_bins)\n",
    "np.save(name6, new_100_9_GA_fitness)"
   ]
  },
  {
   "cell_type": "markdown",
   "metadata": {},
   "source": [
    "## new_250"
   ]
  },
  {
   "cell_type": "markdown",
   "metadata": {},
   "source": [
    "### new_250_0"
   ]
  },
  {
   "cell_type": "code",
   "execution_count": 28,
   "metadata": {},
   "outputs": [
    {
     "name": "stdout",
     "output_type": "stream",
     "text": [
      "0 done\n",
      "1 done\n",
      "2 done\n",
      "3 done\n",
      "4 done\n",
      "5 done\n",
      "6 done\n",
      "7 done\n",
      "8 done\n",
      "9 done\n"
     ]
    }
   ],
   "source": [
    "new_250_0_GA_runtime = np.zeros(number_average)\n",
    "new_250_0_GA_gbest_bins = np.zeros((number_average))\n",
    "new_250_0_GA_average_bins = np.zeros((number_average, iterations))\n",
    "new_250_0_GA_best_bins = np.zeros((number_average, iterations))\n",
    "new_250_0_GA_worst_bins = np.zeros((number_average, iterations))\n",
    "new_250_0_GA_fitness = np.zeros((number_average, iterations))\n",
    "\n",
    "for i in range(number_average):\n",
    "    GA = GeneticAlgorithm(new_250_0, new_250_container[0], new_250_container[1])\n",
    "    _, new_250_0_GA_gbest_bins[i], new_250_0_GA_average_bins[i], new_250_0_GA_best_bins, new_250_0_GA_worst_bins, new_250_0_GA_runtime[i], new_250_0_GA_fitness[i] = GA.run()\n",
    "    print(str(i) + ' done')\n",
    "    \n",
    "name1 = 'Solutions/new_250_0_GA_runtime.npy'\n",
    "name2 = 'Solutions/new_250_0_GA_gbest_bins.npy'\n",
    "name3 = 'Solutions/new_250_0_GA_average_bins.npy'\n",
    "name4 = 'Solutions/new_250_0_GA_best_bins.npy'\n",
    "name5 = 'Solutions/new_250_0_GA_worst_bins.npy'\n",
    "name6 = 'Solutions/new_250_0_GA_fitness.npy'\n",
    "\n",
    "np.save(name1, new_250_0_GA_runtime)\n",
    "np.save(name2, new_250_0_GA_gbest_bins)\n",
    "np.save(name3, new_250_0_GA_average_bins)\n",
    "np.save(name4, new_250_0_GA_best_bins)\n",
    "np.save(name5, new_250_0_GA_worst_bins)\n",
    "np.save(name6, new_250_0_GA_fitness)"
   ]
  },
  {
   "cell_type": "markdown",
   "metadata": {},
   "source": [
    "### new_250_1"
   ]
  },
  {
   "cell_type": "code",
   "execution_count": 29,
   "metadata": {},
   "outputs": [
    {
     "name": "stdout",
     "output_type": "stream",
     "text": [
      "0 done\n",
      "1 done\n",
      "2 done\n",
      "3 done\n",
      "4 done\n",
      "5 done\n",
      "6 done\n",
      "7 done\n",
      "8 done\n",
      "9 done\n"
     ]
    }
   ],
   "source": [
    "new_250_1_GA_runtime = np.zeros(number_average)\n",
    "new_250_1_GA_gbest_bins = np.zeros((number_average))\n",
    "new_250_1_GA_average_bins = np.zeros((number_average, iterations))\n",
    "new_250_1_GA_best_bins = np.zeros((number_average, iterations))\n",
    "new_250_1_GA_worst_bins = np.zeros((number_average, iterations))\n",
    "new_250_1_GA_fitness = np.zeros((number_average, iterations))\n",
    "\n",
    "for i in range(number_average):\n",
    "    GA = GeneticAlgorithm(new_250_1, new_250_container[0], new_250_container[1])\n",
    "    _, new_250_1_GA_gbest_bins[i], new_250_1_GA_average_bins[i], new_250_1_GA_best_bins, new_250_1_GA_worst_bins, new_250_1_GA_runtime[i], new_250_1_GA_fitness[i] = GA.run()\n",
    "    print(str(i) + ' done')\n",
    "    \n",
    "name1 = 'Solutions/new_250_1_GA_runtime.npy'\n",
    "name2 = 'Solutions/new_250_1_GA_gbest_bins.npy'\n",
    "name3 = 'Solutions/new_250_1_GA_average_bins.npy'\n",
    "name4 = 'Solutions/new_250_1_GA_best_bins.npy'\n",
    "name5 = 'Solutions/new_250_1_GA_worst_bins.npy'\n",
    "name6 = 'Solutions/new_250_1_GA_fitness.npy'\n",
    "\n",
    "np.save(name1, new_250_1_GA_runtime)\n",
    "np.save(name2, new_250_1_GA_gbest_bins)\n",
    "np.save(name3, new_250_1_GA_average_bins)\n",
    "np.save(name4, new_250_1_GA_best_bins)\n",
    "np.save(name5, new_250_1_GA_worst_bins)\n",
    "np.save(name6, new_250_1_GA_fitness)"
   ]
  },
  {
   "cell_type": "markdown",
   "metadata": {},
   "source": [
    "### new_250_2"
   ]
  },
  {
   "cell_type": "code",
   "execution_count": 30,
   "metadata": {},
   "outputs": [
    {
     "name": "stdout",
     "output_type": "stream",
     "text": [
      "0 done\n",
      "1 done\n",
      "2 done\n",
      "3 done\n",
      "4 done\n",
      "5 done\n",
      "6 done\n",
      "7 done\n",
      "8 done\n",
      "9 done\n"
     ]
    }
   ],
   "source": [
    "new_250_2_GA_runtime = np.zeros(number_average)\n",
    "new_250_2_GA_gbest_bins = np.zeros((number_average))\n",
    "new_250_2_GA_average_bins = np.zeros((number_average, iterations))\n",
    "new_250_2_GA_best_bins = np.zeros((number_average, iterations))\n",
    "new_250_2_GA_worst_bins = np.zeros((number_average, iterations))\n",
    "new_250_2_GA_fitness = np.zeros((number_average, iterations))\n",
    "\n",
    "for i in range(number_average):\n",
    "    GA = GeneticAlgorithm(new_250_2, new_250_container[0], new_250_container[1])\n",
    "    _, new_250_2_GA_gbest_bins[i], new_250_2_GA_average_bins[i], new_250_2_GA_best_bins, new_250_2_GA_worst_bins, new_250_2_GA_runtime[i], new_250_2_GA_fitness[i] = GA.run()\n",
    "    print(str(i) + ' done')\n",
    "    \n",
    "name1 = 'Solutions/new_250_2_GA_runtime.npy'\n",
    "name2 = 'Solutions/new_250_2_GA_gbest_bins.npy'\n",
    "name3 = 'Solutions/new_250_2_GA_average_bins.npy'\n",
    "name4 = 'Solutions/new_250_2_GA_best_bins.npy'\n",
    "name5 = 'Solutions/new_250_2_GA_worst_bins.npy'\n",
    "name6 = 'Solutions/new_250_2_GA_fitness.npy'\n",
    "\n",
    "np.save(name1, new_250_2_GA_runtime)\n",
    "np.save(name2, new_250_2_GA_gbest_bins)\n",
    "np.save(name3, new_250_2_GA_average_bins)\n",
    "np.save(name4, new_250_2_GA_best_bins)\n",
    "np.save(name5, new_250_2_GA_worst_bins)\n",
    "np.save(name6, new_250_2_GA_fitness)"
   ]
  },
  {
   "cell_type": "markdown",
   "metadata": {},
   "source": [
    "### new_250_3"
   ]
  },
  {
   "cell_type": "code",
   "execution_count": 31,
   "metadata": {},
   "outputs": [
    {
     "name": "stdout",
     "output_type": "stream",
     "text": [
      "0 done\n",
      "1 done\n",
      "2 done\n",
      "3 done\n",
      "4 done\n",
      "5 done\n",
      "6 done\n",
      "7 done\n",
      "8 done\n",
      "9 done\n"
     ]
    }
   ],
   "source": [
    "new_250_3_GA_runtime = np.zeros(number_average)\n",
    "new_250_3_GA_gbest_bins = np.zeros((number_average))\n",
    "new_250_3_GA_average_bins = np.zeros((number_average, iterations))\n",
    "new_250_3_GA_best_bins = np.zeros((number_average, iterations))\n",
    "new_250_3_GA_worst_bins = np.zeros((number_average, iterations))\n",
    "new_250_3_GA_fitness = np.zeros((number_average, iterations))\n",
    "\n",
    "for i in range(number_average):\n",
    "    GA = GeneticAlgorithm(new_250_3, new_250_container[0], new_250_container[1])\n",
    "    _, new_250_3_GA_gbest_bins[i], new_250_3_GA_average_bins[i], new_250_3_GA_best_bins, new_250_3_GA_worst_bins, new_250_3_GA_runtime[i], new_250_3_GA_fitness[i] = GA.run()\n",
    "    print(str(i) + ' done')\n",
    "    \n",
    "name1 = 'Solutions/new_250_3_GA_runtime.npy'\n",
    "name2 = 'Solutions/new_250_3_GA_gbest_bins.npy'\n",
    "name3 = 'Solutions/new_250_3_GA_average_bins.npy'\n",
    "name4 = 'Solutions/new_250_3_GA_best_bins.npy'\n",
    "name5 = 'Solutions/new_250_3_GA_worst_bins.npy'\n",
    "name6 = 'Solutions/new_250_3_GA_fitness.npy'\n",
    "\n",
    "np.save(name1, new_250_3_GA_runtime)\n",
    "np.save(name2, new_250_3_GA_gbest_bins)\n",
    "np.save(name3, new_250_3_GA_average_bins)\n",
    "np.save(name4, new_250_3_GA_best_bins)\n",
    "np.save(name5, new_250_3_GA_worst_bins)\n",
    "np.save(name6, new_250_3_GA_fitness)"
   ]
  },
  {
   "cell_type": "markdown",
   "metadata": {},
   "source": [
    "### new_250_4"
   ]
  },
  {
   "cell_type": "code",
   "execution_count": 32,
   "metadata": {},
   "outputs": [
    {
     "name": "stdout",
     "output_type": "stream",
     "text": [
      "0 done\n",
      "1 done\n",
      "2 done\n",
      "3 done\n",
      "4 done\n",
      "5 done\n",
      "6 done\n",
      "7 done\n",
      "8 done\n",
      "9 done\n"
     ]
    }
   ],
   "source": [
    "new_250_4_GA_runtime = np.zeros(number_average)\n",
    "new_250_4_GA_gbest_bins = np.zeros((number_average))\n",
    "new_250_4_GA_average_bins = np.zeros((number_average, iterations))\n",
    "new_250_4_GA_best_bins = np.zeros((number_average, iterations))\n",
    "new_250_4_GA_worst_bins = np.zeros((number_average, iterations))\n",
    "new_250_4_GA_fitness = np.zeros((number_average, iterations))\n",
    "\n",
    "for i in range(number_average):\n",
    "    GA = GeneticAlgorithm(new_250_4, new_250_container[0], new_250_container[1])\n",
    "    _, new_250_4_GA_gbest_bins[i], new_250_4_GA_average_bins[i], new_250_4_GA_best_bins, new_250_4_GA_worst_bins, new_250_4_GA_runtime[i], new_250_4_GA_fitness[i] = GA.run()\n",
    "    print(str(i) + ' done')\n",
    "    \n",
    "name1 = 'Solutions/new_250_4_GA_runtime.npy'\n",
    "name2 = 'Solutions/new_250_4_GA_gbest_bins.npy'\n",
    "name3 = 'Solutions/new_250_4_GA_average_bins.npy'\n",
    "name4 = 'Solutions/new_250_4_GA_best_bins.npy'\n",
    "name5 = 'Solutions/new_250_4_GA_worst_bins.npy'\n",
    "name6 = 'Solutions/new_250_4_GA_fitness.npy'\n",
    "\n",
    "np.save(name1, new_250_4_GA_runtime)\n",
    "np.save(name2, new_250_4_GA_gbest_bins)\n",
    "np.save(name3, new_250_4_GA_average_bins)\n",
    "np.save(name4, new_250_4_GA_best_bins)\n",
    "np.save(name5, new_250_4_GA_worst_bins)\n",
    "np.save(name6, new_250_4_GA_fitness)"
   ]
  },
  {
   "cell_type": "markdown",
   "metadata": {},
   "source": [
    "### new_250_5"
   ]
  },
  {
   "cell_type": "code",
   "execution_count": 34,
   "metadata": {},
   "outputs": [
    {
     "name": "stdout",
     "output_type": "stream",
     "text": [
      "0 done\n",
      "1 done\n",
      "2 done\n",
      "3 done\n",
      "4 done\n",
      "5 done\n",
      "6 done\n",
      "7 done\n",
      "8 done\n",
      "9 done\n"
     ]
    }
   ],
   "source": [
    "new_250_5_GA_runtime = np.zeros(number_average)\n",
    "new_250_5_GA_gbest_bins = np.zeros((number_average))\n",
    "new_250_5_GA_average_bins = np.zeros((number_average, iterations))\n",
    "new_250_5_GA_best_bins = np.zeros((number_average, iterations))\n",
    "new_250_5_GA_worst_bins = np.zeros((number_average, iterations))\n",
    "new_250_5_GA_fitness = np.zeros((number_average, iterations))\n",
    "\n",
    "for i in range(number_average):\n",
    "    GA = GeneticAlgorithm(new_250_5, new_250_container[0], new_250_container[1])\n",
    "    _, new_250_5_GA_gbest_bins[i], new_250_5_GA_average_bins[i], new_250_5_GA_best_bins, new_250_5_GA_worst_bins, new_250_5_GA_runtime[i], new_250_5_GA_fitness[i] = GA.run()\n",
    "    print(str(i) + ' done')\n",
    "    \n",
    "name1 = 'Solutions/new_250_5_GA_runtime.npy'\n",
    "name2 = 'Solutions/new_250_5_GA_gbest_bins.npy'\n",
    "name3 = 'Solutions/new_250_5_GA_average_bins.npy'\n",
    "name4 = 'Solutions/new_250_5_GA_best_bins.npy'\n",
    "name5 = 'Solutions/new_250_5_GA_worst_bins.npy'\n",
    "name6 = 'Solutions/new_250_5_GA_fitness.npy'\n",
    "\n",
    "np.save(name1, new_250_5_GA_runtime)\n",
    "np.save(name2, new_250_5_GA_gbest_bins)\n",
    "np.save(name3, new_250_5_GA_average_bins)\n",
    "np.save(name4, new_250_5_GA_best_bins)\n",
    "np.save(name5, new_250_5_GA_worst_bins)\n",
    "np.save(name6, new_250_5_GA_fitness)"
   ]
  },
  {
   "cell_type": "markdown",
   "metadata": {},
   "source": [
    "### new_250_6"
   ]
  },
  {
   "cell_type": "code",
   "execution_count": 35,
   "metadata": {},
   "outputs": [
    {
     "name": "stdout",
     "output_type": "stream",
     "text": [
      "0 done\n",
      "1 done\n",
      "2 done\n",
      "3 done\n",
      "4 done\n",
      "5 done\n",
      "6 done\n",
      "7 done\n",
      "8 done\n",
      "9 done\n"
     ]
    }
   ],
   "source": [
    "new_250_6_GA_runtime = np.zeros(number_average)\n",
    "new_250_6_GA_gbest_bins = np.zeros((number_average))\n",
    "new_250_6_GA_average_bins = np.zeros((number_average, iterations))\n",
    "new_250_6_GA_best_bins = np.zeros((number_average, iterations))\n",
    "new_250_6_GA_worst_bins = np.zeros((number_average, iterations))\n",
    "new_250_6_GA_fitness = np.zeros((number_average, iterations))\n",
    "\n",
    "for i in range(number_average):\n",
    "    GA = GeneticAlgorithm(new_250_6, new_250_container[0], new_250_container[1])\n",
    "    _, new_250_6_GA_gbest_bins[i], new_250_6_GA_average_bins[i], new_250_6_GA_best_bins, new_250_6_GA_worst_bins, new_250_6_GA_runtime[i], new_250_6_GA_fitness[i] = GA.run()\n",
    "    print(str(i) + ' done')\n",
    "    \n",
    "name1 = 'Solutions/new_250_6_GA_runtime.npy'\n",
    "name2 = 'Solutions/new_250_6_GA_gbest_bins.npy'\n",
    "name3 = 'Solutions/new_250_6_GA_average_bins.npy'\n",
    "name4 = 'Solutions/new_250_6_GA_best_bins.npy'\n",
    "name5 = 'Solutions/new_250_6_GA_worst_bins.npy'\n",
    "name6 = 'Solutions/new_250_6_GA_fitness.npy'\n",
    "\n",
    "np.save(name1, new_250_6_GA_runtime)\n",
    "np.save(name2, new_250_6_GA_gbest_bins)\n",
    "np.save(name3, new_250_6_GA_average_bins)\n",
    "np.save(name4, new_250_6_GA_best_bins)\n",
    "np.save(name5, new_250_6_GA_worst_bins)\n",
    "np.save(name6, new_250_6_GA_fitness)"
   ]
  },
  {
   "cell_type": "markdown",
   "metadata": {},
   "source": [
    "### new_250_7"
   ]
  },
  {
   "cell_type": "code",
   "execution_count": 36,
   "metadata": {},
   "outputs": [
    {
     "name": "stdout",
     "output_type": "stream",
     "text": [
      "0 done\n",
      "1 done\n",
      "2 done\n",
      "3 done\n",
      "4 done\n",
      "5 done\n",
      "6 done\n",
      "7 done\n",
      "8 done\n",
      "9 done\n"
     ]
    }
   ],
   "source": [
    "new_250_7_GA_runtime = np.zeros(number_average)\n",
    "new_250_7_GA_gbest_bins = np.zeros((number_average))\n",
    "new_250_7_GA_average_bins = np.zeros((number_average, iterations))\n",
    "new_250_7_GA_best_bins = np.zeros((number_average, iterations))\n",
    "new_250_7_GA_worst_bins = np.zeros((number_average, iterations))\n",
    "new_250_7_GA_fitness = np.zeros((number_average, iterations))\n",
    "\n",
    "for i in range(number_average):\n",
    "    GA = GeneticAlgorithm(new_250_7, new_250_container[0], new_250_container[1])\n",
    "    _, new_250_7_GA_gbest_bins[i], new_250_7_GA_average_bins[i], new_250_7_GA_best_bins, new_250_7_GA_worst_bins, new_250_7_GA_runtime[i], new_250_7_GA_fitness[i] = GA.run()\n",
    "    print(str(i) + ' done')\n",
    "    \n",
    "name1 = 'Solutions/new_250_7_GA_runtime.npy'\n",
    "name2 = 'Solutions/new_250_7_GA_gbest_bins.npy'\n",
    "name3 = 'Solutions/new_250_7_GA_average_bins.npy'\n",
    "name4 = 'Solutions/new_250_7_GA_best_bins.npy'\n",
    "name5 = 'Solutions/new_250_7_GA_worst_bins.npy'\n",
    "name6 = 'Solutions/new_250_7_GA_fitness.npy'\n",
    "\n",
    "np.save(name1, new_250_7_GA_runtime)\n",
    "np.save(name2, new_250_7_GA_gbest_bins)\n",
    "np.save(name3, new_250_7_GA_average_bins)\n",
    "np.save(name4, new_250_7_GA_best_bins)\n",
    "np.save(name5, new_250_7_GA_worst_bins)\n",
    "np.save(name6, new_250_7_GA_fitness)"
   ]
  },
  {
   "cell_type": "markdown",
   "metadata": {},
   "source": [
    "### new_250_8"
   ]
  },
  {
   "cell_type": "code",
   "execution_count": 37,
   "metadata": {},
   "outputs": [
    {
     "name": "stdout",
     "output_type": "stream",
     "text": [
      "0 done\n",
      "1 done\n",
      "2 done\n",
      "3 done\n",
      "4 done\n",
      "5 done\n",
      "6 done\n",
      "7 done\n",
      "8 done\n",
      "9 done\n"
     ]
    }
   ],
   "source": [
    "new_250_8_GA_runtime = np.zeros(number_average)\n",
    "new_250_8_GA_gbest_bins = np.zeros((number_average))\n",
    "new_250_8_GA_average_bins = np.zeros((number_average, iterations))\n",
    "new_250_8_GA_best_bins = np.zeros((number_average, iterations))\n",
    "new_250_8_GA_worst_bins = np.zeros((number_average, iterations))\n",
    "new_250_8_GA_fitness = np.zeros((number_average, iterations))\n",
    "\n",
    "for i in range(number_average):\n",
    "    GA = GeneticAlgorithm(new_250_8, new_250_container[0], new_250_container[1])\n",
    "    _, new_250_8_GA_gbest_bins[i], new_250_8_GA_average_bins[i], new_250_8_GA_best_bins, new_250_8_GA_worst_bins, new_250_8_GA_runtime[i], new_250_8_GA_fitness[i] = GA.run()\n",
    "    print(str(i) + ' done')\n",
    "    \n",
    "name1 = 'Solutions/new_250_8_GA_runtime.npy'\n",
    "name2 = 'Solutions/new_250_8_GA_gbest_bins.npy'\n",
    "name3 = 'Solutions/new_250_8_GA_average_bins.npy'\n",
    "name4 = 'Solutions/new_250_8_GA_best_bins.npy'\n",
    "name5 = 'Solutions/new_250_8_GA_worst_bins.npy'\n",
    "name6 = 'Solutions/new_250_8_GA_fitness.npy'\n",
    "\n",
    "np.save(name1, new_250_8_GA_runtime)\n",
    "np.save(name2, new_250_8_GA_gbest_bins)\n",
    "np.save(name3, new_250_8_GA_average_bins)\n",
    "np.save(name4, new_250_8_GA_best_bins)\n",
    "np.save(name5, new_250_8_GA_worst_bins)\n",
    "np.save(name6, new_250_8_GA_fitness)"
   ]
  },
  {
   "cell_type": "markdown",
   "metadata": {},
   "source": [
    "### new_250_9"
   ]
  },
  {
   "cell_type": "code",
   "execution_count": 38,
   "metadata": {},
   "outputs": [
    {
     "name": "stdout",
     "output_type": "stream",
     "text": [
      "0 done\n",
      "1 done\n",
      "2 done\n",
      "3 done\n",
      "4 done\n",
      "5 done\n",
      "6 done\n",
      "7 done\n",
      "8 done\n",
      "9 done\n"
     ]
    }
   ],
   "source": [
    "new_250_9_GA_runtime = np.zeros(number_average)\n",
    "new_250_9_GA_gbest_bins = np.zeros((number_average))\n",
    "new_250_9_GA_average_bins = np.zeros((number_average, iterations))\n",
    "new_250_9_GA_best_bins = np.zeros((number_average, iterations))\n",
    "new_250_9_GA_worst_bins = np.zeros((number_average, iterations))\n",
    "new_250_9_GA_fitness = np.zeros((number_average, iterations))\n",
    "\n",
    "for i in range(number_average):\n",
    "    GA = GeneticAlgorithm(new_250_9, new_250_container[0], new_250_container[1])\n",
    "    _, new_250_9_GA_gbest_bins[i], new_250_9_GA_average_bins[i], new_250_9_GA_best_bins, new_250_9_GA_worst_bins, new_250_9_GA_runtime[i], new_250_9_GA_fitness[i] = GA.run()\n",
    "    print(str(i) + ' done')\n",
    "    \n",
    "name1 = 'Solutions/new_250_9_GA_runtime.npy'\n",
    "name2 = 'Solutions/new_250_9_GA_gbest_bins.npy'\n",
    "name3 = 'Solutions/new_250_9_GA_average_bins.npy'\n",
    "name4 = 'Solutions/new_250_9_GA_best_bins.npy'\n",
    "name5 = 'Solutions/new_250_9_GA_worst_bins.npy'\n",
    "name6 = 'Solutions/new_250_9_GA_fitness.npy'\n",
    "\n",
    "np.save(name1, new_250_9_GA_runtime)\n",
    "np.save(name2, new_250_9_GA_gbest_bins)\n",
    "np.save(name3, new_250_9_GA_average_bins)\n",
    "np.save(name4, new_250_9_GA_best_bins)\n",
    "np.save(name5, new_250_9_GA_worst_bins)\n",
    "np.save(name6, new_250_9_GA_fitness)"
   ]
  },
  {
   "cell_type": "markdown",
   "metadata": {},
   "source": [
    "## new_500"
   ]
  },
  {
   "cell_type": "markdown",
   "metadata": {},
   "source": [
    "### new_500_0"
   ]
  },
  {
   "cell_type": "code",
   "execution_count": 40,
   "metadata": {},
   "outputs": [
    {
     "name": "stdout",
     "output_type": "stream",
     "text": [
      "0 done\n",
      "1 done\n",
      "2 done\n",
      "3 done\n",
      "4 done\n",
      "5 done\n",
      "6 done\n",
      "7 done\n",
      "8 done\n",
      "9 done\n"
     ]
    }
   ],
   "source": [
    "new_500_0_GA_runtime = np.zeros(number_average)\n",
    "new_500_0_GA_gbest_bins = np.zeros((number_average))\n",
    "new_500_0_GA_average_bins = np.zeros((number_average, iterations))\n",
    "new_500_0_GA_best_bins = np.zeros((number_average, iterations))\n",
    "new_500_0_GA_worst_bins = np.zeros((number_average, iterations))\n",
    "new_500_0_GA_fitness = np.zeros((number_average, iterations))\n",
    "\n",
    "for i in range(number_average):\n",
    "    GA = GeneticAlgorithm(new_500_0, new_500_container[0], new_500_container[1])\n",
    "    _, new_500_0_GA_gbest_bins[i], new_500_0_GA_average_bins[i], new_500_0_GA_best_bins, new_500_0_GA_worst_bins, new_500_0_GA_runtime[i], new_500_0_GA_fitness[i] = GA.run()\n",
    "    print(str(i) + ' done')\n",
    "    \n",
    "name1 = 'Solutions/new_500_0_GA_runtime.npy'\n",
    "name2 = 'Solutions/new_500_0_GA_gbest_bins.npy'\n",
    "name3 = 'Solutions/new_500_0_GA_average_bins.npy'\n",
    "name4 = 'Solutions/new_500_0_GA_best_bins.npy'\n",
    "name5 = 'Solutions/new_500_0_GA_worst_bins.npy'\n",
    "name6 = 'Solutions/new_500_0_GA_fitness.npy'\n",
    "\n",
    "np.save(name1, new_500_0_GA_runtime)\n",
    "np.save(name2, new_500_0_GA_gbest_bins)\n",
    "np.save(name3, new_500_0_GA_average_bins)\n",
    "np.save(name4, new_500_0_GA_best_bins)\n",
    "np.save(name5, new_500_0_GA_worst_bins)\n",
    "np.save(name6, new_500_0_GA_fitness)"
   ]
  },
  {
   "cell_type": "markdown",
   "metadata": {},
   "source": [
    "### new_500_1"
   ]
  },
  {
   "cell_type": "code",
   "execution_count": 41,
   "metadata": {},
   "outputs": [
    {
     "name": "stdout",
     "output_type": "stream",
     "text": [
      "0 done\n",
      "1 done\n",
      "2 done\n",
      "3 done\n",
      "4 done\n",
      "5 done\n",
      "6 done\n",
      "7 done\n",
      "8 done\n",
      "9 done\n"
     ]
    }
   ],
   "source": [
    "new_500_1_GA_runtime = np.zeros(number_average)\n",
    "new_500_1_GA_gbest_bins = np.zeros((number_average))\n",
    "new_500_1_GA_average_bins = np.zeros((number_average, iterations))\n",
    "new_500_1_GA_best_bins = np.zeros((number_average, iterations))\n",
    "new_500_1_GA_worst_bins = np.zeros((number_average, iterations))\n",
    "new_500_1_GA_fitness = np.zeros((number_average, iterations))\n",
    "\n",
    "for i in range(number_average):\n",
    "    GA = GeneticAlgorithm(new_500_1, new_500_container[0], new_500_container[1])\n",
    "    _, new_500_1_GA_gbest_bins[i], new_500_1_GA_average_bins[i], new_500_1_GA_best_bins, new_500_1_GA_worst_bins, new_500_1_GA_runtime[i], new_500_1_GA_fitness[i] = GA.run()\n",
    "    print(str(i) + ' done')\n",
    "    \n",
    "name1 = 'Solutions/new_500_1_GA_runtime.npy'\n",
    "name2 = 'Solutions/new_500_1_GA_gbest_bins.npy'\n",
    "name3 = 'Solutions/new_500_1_GA_average_bins.npy'\n",
    "name4 = 'Solutions/new_500_1_GA_best_bins.npy'\n",
    "name5 = 'Solutions/new_500_1_GA_worst_bins.npy'\n",
    "name6 = 'Solutions/new_500_1_GA_fitness.npy'\n",
    "\n",
    "np.save(name1, new_500_1_GA_runtime)\n",
    "np.save(name2, new_500_1_GA_gbest_bins)\n",
    "np.save(name3, new_500_1_GA_average_bins)\n",
    "np.save(name4, new_500_1_GA_best_bins)\n",
    "np.save(name5, new_500_1_GA_worst_bins)\n",
    "np.save(name6, new_500_1_GA_fitness)"
   ]
  },
  {
   "cell_type": "markdown",
   "metadata": {},
   "source": [
    "### new_500_2"
   ]
  },
  {
   "cell_type": "code",
   "execution_count": 42,
   "metadata": {},
   "outputs": [
    {
     "name": "stdout",
     "output_type": "stream",
     "text": [
      "0 done\n",
      "1 done\n",
      "2 done\n",
      "3 done\n",
      "4 done\n",
      "5 done\n",
      "6 done\n",
      "7 done\n",
      "8 done\n",
      "9 done\n"
     ]
    }
   ],
   "source": [
    "new_500_2_GA_runtime = np.zeros(number_average)\n",
    "new_500_2_GA_gbest_bins = np.zeros((number_average))\n",
    "new_500_2_GA_average_bins = np.zeros((number_average, iterations))\n",
    "new_500_2_GA_best_bins = np.zeros((number_average, iterations))\n",
    "new_500_2_GA_worst_bins = np.zeros((number_average, iterations))\n",
    "new_500_2_GA_fitness = np.zeros((number_average, iterations))\n",
    "\n",
    "for i in range(number_average):\n",
    "    GA = GeneticAlgorithm(new_500_2, new_500_container[0], new_500_container[1])\n",
    "    _, new_500_2_GA_gbest_bins[i], new_500_2_GA_average_bins[i], new_500_2_GA_best_bins, new_500_2_GA_worst_bins, new_500_2_GA_runtime[i], new_500_2_GA_fitness[i] = GA.run()\n",
    "    print(str(i) + ' done')\n",
    "    \n",
    "name1 = 'Solutions/new_500_2_GA_runtime.npy'\n",
    "name2 = 'Solutions/new_500_2_GA_gbest_bins.npy'\n",
    "name3 = 'Solutions/new_500_2_GA_average_bins.npy'\n",
    "name4 = 'Solutions/new_500_2_GA_best_bins.npy'\n",
    "name5 = 'Solutions/new_500_2_GA_worst_bins.npy'\n",
    "name6 = 'Solutions/new_500_2_GA_fitness.npy'\n",
    "\n",
    "np.save(name1, new_500_2_GA_runtime)\n",
    "np.save(name2, new_500_2_GA_gbest_bins)\n",
    "np.save(name3, new_500_2_GA_average_bins)\n",
    "np.save(name4, new_500_2_GA_best_bins)\n",
    "np.save(name5, new_500_2_GA_worst_bins)\n",
    "np.save(name6, new_500_2_GA_fitness)"
   ]
  },
  {
   "cell_type": "markdown",
   "metadata": {},
   "source": [
    "### new_500_3"
   ]
  },
  {
   "cell_type": "code",
   "execution_count": 43,
   "metadata": {},
   "outputs": [
    {
     "name": "stdout",
     "output_type": "stream",
     "text": [
      "0 done\n",
      "1 done\n",
      "2 done\n",
      "3 done\n",
      "4 done\n",
      "5 done\n",
      "6 done\n",
      "7 done\n",
      "8 done\n",
      "9 done\n"
     ]
    }
   ],
   "source": [
    "new_500_3_GA_runtime = np.zeros(number_average)\n",
    "new_500_3_GA_gbest_bins = np.zeros((number_average))\n",
    "new_500_3_GA_average_bins = np.zeros((number_average, iterations))\n",
    "new_500_3_GA_best_bins = np.zeros((number_average, iterations))\n",
    "new_500_3_GA_worst_bins = np.zeros((number_average, iterations))\n",
    "new_500_3_GA_fitness = np.zeros((number_average, iterations))\n",
    "\n",
    "for i in range(number_average):\n",
    "    GA = GeneticAlgorithm(new_500_3, new_500_container[0], new_500_container[1])\n",
    "    _, new_500_3_GA_gbest_bins[i], new_500_3_GA_average_bins[i], new_500_3_GA_best_bins, new_500_3_GA_worst_bins, new_500_3_GA_runtime[i], new_500_3_GA_fitness[i] = GA.run()\n",
    "    print(str(i) + ' done')\n",
    "    \n",
    "name1 = 'Solutions/new_500_3_GA_runtime.npy'\n",
    "name2 = 'Solutions/new_500_3_GA_gbest_bins.npy'\n",
    "name3 = 'Solutions/new_500_3_GA_average_bins.npy'\n",
    "name4 = 'Solutions/new_500_3_GA_best_bins.npy'\n",
    "name5 = 'Solutions/new_500_3_GA_worst_bins.npy'\n",
    "name6 = 'Solutions/new_500_3_GA_fitness.npy'\n",
    "\n",
    "np.save(name1, new_500_3_GA_runtime)\n",
    "np.save(name2, new_500_3_GA_gbest_bins)\n",
    "np.save(name3, new_500_3_GA_average_bins)\n",
    "np.save(name4, new_500_3_GA_best_bins)\n",
    "np.save(name5, new_500_3_GA_worst_bins)\n",
    "np.save(name6, new_500_3_GA_fitness)"
   ]
  },
  {
   "cell_type": "markdown",
   "metadata": {},
   "source": [
    "### new_500_4"
   ]
  },
  {
   "cell_type": "code",
   "execution_count": 44,
   "metadata": {},
   "outputs": [
    {
     "name": "stdout",
     "output_type": "stream",
     "text": [
      "0 done\n",
      "1 done\n",
      "2 done\n",
      "3 done\n",
      "4 done\n",
      "5 done\n",
      "6 done\n",
      "7 done\n",
      "8 done\n",
      "9 done\n"
     ]
    }
   ],
   "source": [
    "new_500_4_GA_runtime = np.zeros(number_average)\n",
    "new_500_4_GA_gbest_bins = np.zeros((number_average))\n",
    "new_500_4_GA_average_bins = np.zeros((number_average, iterations))\n",
    "new_500_4_GA_best_bins = np.zeros((number_average, iterations))\n",
    "new_500_4_GA_worst_bins = np.zeros((number_average, iterations))\n",
    "new_500_4_GA_fitness = np.zeros((number_average, iterations))\n",
    "\n",
    "for i in range(number_average):\n",
    "    GA = GeneticAlgorithm(new_500_4, new_500_container[0], new_500_container[1])\n",
    "    _, new_500_4_GA_gbest_bins[i], new_500_4_GA_average_bins[i], new_500_4_GA_best_bins, new_500_4_GA_worst_bins, new_500_4_GA_runtime[i], new_500_4_GA_fitness[i] = GA.run()\n",
    "    print(str(i) + ' done')\n",
    "    \n",
    "name1 = 'Solutions/new_500_4_GA_runtime.npy'\n",
    "name2 = 'Solutions/new_500_4_GA_gbest_bins.npy'\n",
    "name3 = 'Solutions/new_500_4_GA_average_bins.npy'\n",
    "name4 = 'Solutions/new_500_4_GA_best_bins.npy'\n",
    "name5 = 'Solutions/new_500_4_GA_worst_bins.npy'\n",
    "name6 = 'Solutions/new_500_4_GA_fitness.npy'\n",
    "\n",
    "np.save(name1, new_500_4_GA_runtime)\n",
    "np.save(name2, new_500_4_GA_gbest_bins)\n",
    "np.save(name3, new_500_4_GA_average_bins)\n",
    "np.save(name4, new_500_4_GA_best_bins)\n",
    "np.save(name5, new_500_4_GA_worst_bins)\n",
    "np.save(name6, new_500_4_GA_fitness)"
   ]
  },
  {
   "cell_type": "markdown",
   "metadata": {},
   "source": [
    "### new_500_5"
   ]
  },
  {
   "cell_type": "code",
   "execution_count": 45,
   "metadata": {},
   "outputs": [
    {
     "name": "stdout",
     "output_type": "stream",
     "text": [
      "0 done\n",
      "1 done\n",
      "2 done\n",
      "3 done\n",
      "4 done\n",
      "5 done\n",
      "6 done\n",
      "7 done\n",
      "8 done\n",
      "9 done\n"
     ]
    }
   ],
   "source": [
    "new_500_5_GA_runtime = np.zeros(number_average)\n",
    "new_500_5_GA_gbest_bins = np.zeros((number_average))\n",
    "new_500_5_GA_average_bins = np.zeros((number_average, iterations))\n",
    "new_500_5_GA_best_bins = np.zeros((number_average, iterations))\n",
    "new_500_5_GA_worst_bins = np.zeros((number_average, iterations))\n",
    "new_500_5_GA_fitness = np.zeros((number_average, iterations))\n",
    "\n",
    "for i in range(number_average):\n",
    "    GA = GeneticAlgorithm(new_500_5, new_500_container[0], new_500_container[1])\n",
    "    _, new_500_5_GA_gbest_bins[i], new_500_5_GA_average_bins[i], new_500_5_GA_best_bins, new_500_5_GA_worst_bins, new_500_5_GA_runtime[i], new_500_5_GA_fitness[i] = GA.run()\n",
    "    print(str(i) + ' done')\n",
    "    \n",
    "name1 = 'Solutions/new_500_5_GA_runtime.npy'\n",
    "name2 = 'Solutions/new_500_5_GA_gbest_bins.npy'\n",
    "name3 = 'Solutions/new_500_5_GA_average_bins.npy'\n",
    "name4 = 'Solutions/new_500_5_GA_best_bins.npy'\n",
    "name5 = 'Solutions/new_500_5_GA_worst_bins.npy'\n",
    "name6 = 'Solutions/new_500_5_GA_fitness.npy'\n",
    "\n",
    "np.save(name1, new_500_5_GA_runtime)\n",
    "np.save(name2, new_500_5_GA_gbest_bins)\n",
    "np.save(name3, new_500_5_GA_average_bins)\n",
    "np.save(name4, new_500_5_GA_best_bins)\n",
    "np.save(name5, new_500_5_GA_worst_bins)\n",
    "np.save(name6, new_500_5_GA_fitness)"
   ]
  },
  {
   "cell_type": "markdown",
   "metadata": {},
   "source": [
    "### new_500_6"
   ]
  },
  {
   "cell_type": "code",
   "execution_count": 46,
   "metadata": {},
   "outputs": [
    {
     "name": "stdout",
     "output_type": "stream",
     "text": [
      "0 done\n",
      "1 done\n",
      "2 done\n",
      "3 done\n",
      "4 done\n",
      "5 done\n",
      "6 done\n",
      "7 done\n",
      "8 done\n",
      "9 done\n"
     ]
    }
   ],
   "source": [
    "new_500_6_GA_runtime = np.zeros(number_average)\n",
    "new_500_6_GA_gbest_bins = np.zeros((number_average))\n",
    "new_500_6_GA_average_bins = np.zeros((number_average, iterations))\n",
    "new_500_6_GA_best_bins = np.zeros((number_average, iterations))\n",
    "new_500_6_GA_worst_bins = np.zeros((number_average, iterations))\n",
    "new_500_6_GA_fitness = np.zeros((number_average, iterations))\n",
    "\n",
    "for i in range(number_average):\n",
    "    GA = GeneticAlgorithm(new_500_6, new_500_container[0], new_500_container[1])\n",
    "    _, new_500_6_GA_gbest_bins[i], new_500_6_GA_average_bins[i], new_500_6_GA_best_bins, new_500_6_GA_worst_bins, new_500_6_GA_runtime[i], new_500_6_GA_fitness[i] = GA.run()\n",
    "    print(str(i) + ' done')\n",
    "    \n",
    "name1 = 'Solutions/new_500_6_GA_runtime.npy'\n",
    "name2 = 'Solutions/new_500_6_GA_gbest_bins.npy'\n",
    "name3 = 'Solutions/new_500_6_GA_average_bins.npy'\n",
    "name4 = 'Solutions/new_500_6_GA_best_bins.npy'\n",
    "name5 = 'Solutions/new_500_6_GA_worst_bins.npy'\n",
    "name6 = 'Solutions/new_500_6_GA_fitness.npy'\n",
    "\n",
    "np.save(name1, new_500_6_GA_runtime)\n",
    "np.save(name2, new_500_6_GA_gbest_bins)\n",
    "np.save(name3, new_500_6_GA_average_bins)\n",
    "np.save(name4, new_500_6_GA_best_bins)\n",
    "np.save(name5, new_500_6_GA_worst_bins)\n",
    "np.save(name6, new_500_6_GA_fitness)"
   ]
  },
  {
   "cell_type": "markdown",
   "metadata": {},
   "source": [
    "### new_500_7"
   ]
  },
  {
   "cell_type": "code",
   "execution_count": 47,
   "metadata": {},
   "outputs": [
    {
     "name": "stdout",
     "output_type": "stream",
     "text": [
      "0 done\n",
      "1 done\n",
      "2 done\n",
      "3 done\n",
      "4 done\n",
      "5 done\n",
      "6 done\n",
      "7 done\n",
      "8 done\n",
      "9 done\n"
     ]
    }
   ],
   "source": [
    "new_500_7_GA_runtime = np.zeros(number_average)\n",
    "new_500_7_GA_gbest_bins = np.zeros((number_average))\n",
    "new_500_7_GA_average_bins = np.zeros((number_average, iterations))\n",
    "new_500_7_GA_best_bins = np.zeros((number_average, iterations))\n",
    "new_500_7_GA_worst_bins = np.zeros((number_average, iterations))\n",
    "new_500_7_GA_fitness = np.zeros((number_average, iterations))\n",
    "\n",
    "for i in range(number_average):\n",
    "    GA = GeneticAlgorithm(new_500_7, new_500_container[0], new_500_container[1])\n",
    "    _, new_500_7_GA_gbest_bins[i], new_500_7_GA_average_bins[i], new_500_7_GA_best_bins, new_500_7_GA_worst_bins, new_500_7_GA_runtime[i], new_500_7_GA_fitness[i] = GA.run()\n",
    "    print(str(i) + ' done')\n",
    "    \n",
    "name1 = 'Solutions/new_500_7_GA_runtime.npy'\n",
    "name2 = 'Solutions/new_500_7_GA_gbest_bins.npy'\n",
    "name3 = 'Solutions/new_500_7_GA_average_bins.npy'\n",
    "name4 = 'Solutions/new_500_7_GA_best_bins.npy'\n",
    "name5 = 'Solutions/new_500_7_GA_worst_bins.npy'\n",
    "name6 = 'Solutions/new_500_7_GA_fitness.npy'\n",
    "\n",
    "np.save(name1, new_500_7_GA_runtime)\n",
    "np.save(name2, new_500_7_GA_gbest_bins)\n",
    "np.save(name3, new_500_7_GA_average_bins)\n",
    "np.save(name4, new_500_7_GA_best_bins)\n",
    "np.save(name5, new_500_7_GA_worst_bins)\n",
    "np.save(name6, new_500_7_GA_fitness)"
   ]
  },
  {
   "cell_type": "markdown",
   "metadata": {},
   "source": [
    "### new_500_8"
   ]
  },
  {
   "cell_type": "code",
   "execution_count": 48,
   "metadata": {},
   "outputs": [
    {
     "name": "stdout",
     "output_type": "stream",
     "text": [
      "0 done\n",
      "1 done\n",
      "2 done\n",
      "3 done\n",
      "4 done\n",
      "5 done\n",
      "6 done\n",
      "7 done\n",
      "8 done\n",
      "9 done\n"
     ]
    }
   ],
   "source": [
    "new_500_8_GA_runtime = np.zeros(number_average)\n",
    "new_500_8_GA_gbest_bins = np.zeros((number_average))\n",
    "new_500_8_GA_average_bins = np.zeros((number_average, iterations))\n",
    "new_500_8_GA_best_bins = np.zeros((number_average, iterations))\n",
    "new_500_8_GA_worst_bins = np.zeros((number_average, iterations))\n",
    "new_500_8_GA_fitness = np.zeros((number_average, iterations))\n",
    "\n",
    "for i in range(number_average):\n",
    "    GA = GeneticAlgorithm(new_500_8, new_500_container[0], new_500_container[1])\n",
    "    _, new_500_8_GA_gbest_bins[i], new_500_8_GA_average_bins[i], new_500_8_GA_best_bins, new_500_8_GA_worst_bins, new_500_8_GA_runtime[i], new_500_8_GA_fitness[i] = GA.run()\n",
    "    print(str(i) + ' done')\n",
    "    \n",
    "name1 = 'Solutions/new_500_8_GA_runtime.npy'\n",
    "name2 = 'Solutions/new_500_8_GA_gbest_bins.npy'\n",
    "name3 = 'Solutions/new_500_8_GA_average_bins.npy'\n",
    "name4 = 'Solutions/new_500_8_GA_best_bins.npy'\n",
    "name5 = 'Solutions/new_500_8_GA_worst_bins.npy'\n",
    "name6 = 'Solutions/new_500_8_GA_fitness.npy'\n",
    "\n",
    "np.save(name1, new_500_8_GA_runtime)\n",
    "np.save(name2, new_500_8_GA_gbest_bins)\n",
    "np.save(name3, new_500_8_GA_average_bins)\n",
    "np.save(name4, new_500_8_GA_best_bins)\n",
    "np.save(name5, new_500_8_GA_worst_bins)\n",
    "np.save(name6, new_500_8_GA_fitness)"
   ]
  },
  {
   "cell_type": "markdown",
   "metadata": {},
   "source": [
    "### new_500_9"
   ]
  },
  {
   "cell_type": "code",
   "execution_count": 49,
   "metadata": {},
   "outputs": [
    {
     "name": "stdout",
     "output_type": "stream",
     "text": [
      "0 done\n",
      "1 done\n",
      "2 done\n",
      "3 done\n",
      "4 done\n",
      "5 done\n",
      "6 done\n",
      "7 done\n",
      "8 done\n",
      "9 done\n"
     ]
    }
   ],
   "source": [
    "new_500_9_GA_runtime = np.zeros(number_average)\n",
    "new_500_9_GA_gbest_bins = np.zeros((number_average))\n",
    "new_500_9_GA_average_bins = np.zeros((number_average, iterations))\n",
    "new_500_9_GA_best_bins = np.zeros((number_average, iterations))\n",
    "new_500_9_GA_worst_bins = np.zeros((number_average, iterations))\n",
    "new_500_9_GA_fitness = np.zeros((number_average, iterations))\n",
    "\n",
    "for i in range(number_average):\n",
    "    GA = GeneticAlgorithm(new_500_9, new_500_container[0], new_500_container[1])\n",
    "    _, new_500_9_GA_gbest_bins[i], new_500_9_GA_average_bins[i], new_500_9_GA_best_bins, new_500_9_GA_worst_bins, new_500_9_GA_runtime[i], new_500_9_GA_fitness[i] = GA.run()\n",
    "    print(str(i) + ' done')\n",
    "    \n",
    "name1 = 'Solutions/new_500_9_GA_runtime.npy'\n",
    "name2 = 'Solutions/new_500_9_GA_gbest_bins.npy'\n",
    "name3 = 'Solutions/new_500_9_GA_average_bins.npy'\n",
    "name4 = 'Solutions/new_500_9_GA_best_bins.npy'\n",
    "name5 = 'Solutions/new_500_9_GA_worst_bins.npy'\n",
    "name6 = 'Solutions/new_500_9_GA_fitness.npy'\n",
    "\n",
    "np.save(name1, new_500_9_GA_runtime)\n",
    "np.save(name2, new_500_9_GA_gbest_bins)\n",
    "np.save(name3, new_500_9_GA_average_bins)\n",
    "np.save(name4, new_500_9_GA_best_bins)\n",
    "np.save(name5, new_500_9_GA_worst_bins)\n",
    "np.save(name6, new_500_9_GA_fitness)"
   ]
  },
  {
   "cell_type": "markdown",
   "metadata": {},
   "source": [
    "## new_1000"
   ]
  },
  {
   "cell_type": "code",
   "execution_count": 50,
   "metadata": {},
   "outputs": [
    {
     "name": "stdout",
     "output_type": "stream",
     "text": [
      "0 done\n",
      "1 done\n",
      "2 done\n",
      "3 done\n",
      "4 done\n",
      "5 done\n",
      "6 done\n",
      "7 done\n",
      "8 done\n",
      "9 done\n"
     ]
    }
   ],
   "source": [
    "new_1000_0_GA_runtime = np.zeros(number_average)\n",
    "new_1000_0_GA_gbest_bins = np.zeros((number_average))\n",
    "new_1000_0_GA_average_bins = np.zeros((number_average, iterations))\n",
    "new_1000_0_GA_best_bins = np.zeros((number_average, iterations))\n",
    "new_1000_0_GA_worst_bins = np.zeros((number_average, iterations))\n",
    "new_1000_0_GA_fitness = np.zeros((number_average, iterations))\n",
    "\n",
    "for i in range(number_average):\n",
    "    GA = GeneticAlgorithm(new_1000_0, new_1000_container[0], new_1000_container[1])\n",
    "    _, new_1000_0_GA_gbest_bins[i], new_1000_0_GA_average_bins[i], new_1000_0_GA_best_bins, new_1000_0_GA_worst_bins, new_1000_0_GA_runtime[i], new_1000_0_GA_fitness[i] = GA.run()\n",
    "    print(str(i) + ' done')\n",
    "    \n",
    "name1 = 'Solutions/new_1000_0_GA_runtime.npy'\n",
    "name2 = 'Solutions/new_1000_0_GA_gbest_bins.npy'\n",
    "name3 = 'Solutions/new_1000_0_GA_average_bins.npy'\n",
    "name4 = 'Solutions/new_1000_0_GA_best_bins.npy'\n",
    "name5 = 'Solutions/new_1000_0_GA_worst_bins.npy'\n",
    "name6 = 'Solutions/new_1000_0_GA_fitness.npy'\n",
    "\n",
    "np.save(name1, new_1000_0_GA_runtime)\n",
    "np.save(name2, new_1000_0_GA_gbest_bins)\n",
    "np.save(name3, new_1000_0_GA_average_bins)\n",
    "np.save(name4, new_1000_0_GA_best_bins)\n",
    "np.save(name5, new_1000_0_GA_worst_bins)\n",
    "np.save(name6, new_1000_0_GA_fitness)"
   ]
  },
  {
   "cell_type": "code",
   "execution_count": null,
   "metadata": {},
   "outputs": [],
   "source": []
  }
 ],
 "metadata": {
  "interpreter": {
   "hash": "aee8b7b246df8f9039afb4144a1f6fd8d2ca17a180786b69acc140d282b71a49"
  },
  "kernelspec": {
   "display_name": "Python 3",
   "language": "python",
   "name": "python3"
  },
  "language_info": {
   "codemirror_mode": {
    "name": "ipython",
    "version": 3
   },
   "file_extension": ".py",
   "mimetype": "text/x-python",
   "name": "python",
   "nbconvert_exporter": "python",
   "pygments_lexer": "ipython3",
   "version": "3.8.8"
  }
 },
 "nbformat": 4,
 "nbformat_minor": 2
}
