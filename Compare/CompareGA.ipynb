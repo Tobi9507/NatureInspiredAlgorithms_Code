{
 "cells": [
  {
   "cell_type": "markdown",
   "source": [
    "# Vergleich der Algorithmen"
   ],
   "metadata": {}
  },
  {
   "cell_type": "code",
   "execution_count": 1,
   "source": [
    "# imports\n",
    "# add folder to syspath to import GeneticAlgorithm \n",
    "import os\n",
    "import sys\n",
    "path = os.path.dirname(os.path.abspath(''))\n",
    "sys.path.insert(0, path+'/GeneticAlgorithm')\n",
    "from GeneticAlgorithm import GeneticAlgorithm\n",
    "sys.path.insert(0, path+'/ParticleSwarmOptimization')\n",
    "from ParticleSwarmOptimization import ParticleSwarmOptimization\n",
    "\n",
    " # add folder to syspath to import ACO \n",
    "sys.path.insert(0, os.path.dirname(path)+'/AntColonyOptimization')\n",
    "\n",
    "import numpy as np\n",
    "from matplotlib import pyplot as plt"
   ],
   "outputs": [],
   "metadata": {}
  },
  {
   "cell_type": "code",
   "execution_count": 2,
   "source": [
    "# lade die Probleme (klassisch)\n",
    "# small problem\n",
    "small_objects  = np.load(os.path.join(path,'Compare/Ressources/betterproblem/small_objects.npy'))\n",
    "small_container = np.load(os.path.join(path,'Compare/Ressources/betterproblem/small_container.npy'))\n",
    "small_optimal_solution = np.load(os.path.join(path, 'Compare/Ressources/betterproblem/small_optimal.npy'))\n",
    "# medium Problem\n",
    "medium_objects= np.load(os.path.join(path,'Compare/Ressources/betterproblem/medium_objects.npy'))\n",
    "medium_container = np.load(os.path.join(path,'Compare/Ressources/betterproblem/medium_container.npy'))\n",
    "medium_optimal_solution = np.load(os.path.join(path, 'Compare/Ressources/betterproblem/medium_optimal.npy'))\n",
    "# large Problem\n",
    "large_objects  = np.load(os.path.join(path,'Compare/Ressources/betterproblem/large_objects.npy'))\n",
    "large_container = np.load(os.path.join(path,'Compare/Ressources/betterproblem/large_container.npy'))\n",
    "large_optimal_solution = np.load(os.path.join(path, 'Compare/Ressources/betterproblem/large_optimal.npy'))\n",
    "\n",
    "print('Optimale Lösungen')\n",
    "print(f'Kleines Problem {small_optimal_solution}')\n",
    "print(f'Medium Problem {medium_optimal_solution}')\n",
    "print(f'Großes Problem {large_optimal_solution}')"
   ],
   "outputs": [
    {
     "output_type": "stream",
     "name": "stdout",
     "text": [
      "Optimale Lösungen\n",
      "Kleines Problem 3\n",
      "Medium Problem 16\n",
      "Großes Problem 35\n"
     ]
    }
   ],
   "metadata": {}
  },
  {
   "cell_type": "code",
   "execution_count": 3,
   "source": [
    "# lade die Probleme (neu)\n",
    "# 50\n",
    "new_50_0 = np.load(os.path.join(path,'Compare/Ressources/newproblem/o50_0.npy'))\n",
    "new_50_1 = np.load(os.path.join(path,'Compare/Ressources/newproblem/o50_1.npy'))\n",
    "new_50_2 = np.load(os.path.join(path,'Compare/Ressources/newproblem/o50_2.npy'))\n",
    "new_50_3 = np.load(os.path.join(path,'Compare/Ressources/newproblem/o50_3.npy'))\n",
    "new_50_4 = np.load(os.path.join(path,'Compare/Ressources/newproblem/o50_4.npy'))\n",
    "new_50_5 = np.load(os.path.join(path,'Compare/Ressources/newproblem/o50_5.npy'))\n",
    "new_50_6 = np.load(os.path.join(path,'Compare/Ressources/newproblem/o50_6.npy'))\n",
    "new_50_7 = np.load(os.path.join(path,'Compare/Ressources/newproblem/o50_7.npy'))\n",
    "new_50_8 = np.load(os.path.join(path,'Compare/Ressources/newproblem/o50_8.npy'))\n",
    "new_50_9 = np.load(os.path.join(path,'Compare/Ressources/newproblem/o50_9.npy'))\n",
    "new_50_container = np.load(os.path.join(path,'Compare/Ressources/newproblem/medium_container.npy'))\n",
    "new_50_optimal = np.load(os.path.join(path,'Compare/Ressources/newproblem/optimal_solutions_50.npy'))\n",
    "# 100\n",
    "new_100_0 = np.load(os.path.join(path,'Compare/Ressources/newproblem/o100_0.npy'))\n",
    "new_100_1 = np.load(os.path.join(path,'Compare/Ressources/newproblem/o100_1.npy'))\n",
    "new_100_2 = np.load(os.path.join(path,'Compare/Ressources/newproblem/o100_2.npy'))\n",
    "new_100_3 = np.load(os.path.join(path,'Compare/Ressources/newproblem/o100_3.npy'))\n",
    "new_100_4 = np.load(os.path.join(path,'Compare/Ressources/newproblem/o100_4.npy'))\n",
    "new_100_5 = np.load(os.path.join(path,'Compare/Ressources/newproblem/o100_5.npy'))\n",
    "new_100_6 = np.load(os.path.join(path,'Compare/Ressources/newproblem/o100_6.npy'))\n",
    "new_100_7 = np.load(os.path.join(path,'Compare/Ressources/newproblem/o100_7.npy'))\n",
    "new_100_8 = np.load(os.path.join(path,'Compare/Ressources/newproblem/o100_8.npy'))\n",
    "new_100_9 = np.load(os.path.join(path,'Compare/Ressources/newproblem/o100_9.npy'))\n",
    "new_100_container = np.load(os.path.join(path,'Compare/Ressources/newproblem/medium_container.npy'))\n",
    "new_100_optimal = np.load(os.path.join(path,'Compare/Ressources/newproblem/optimal_solutions_100.npy'))\n",
    "# 250\n",
    "new_250_0 = np.load(os.path.join(path,'Compare/Ressources/newproblem/o250_0.npy'))\n",
    "new_250_1 = np.load(os.path.join(path,'Compare/Ressources/newproblem/o250_1.npy'))\n",
    "new_250_2 = np.load(os.path.join(path,'Compare/Ressources/newproblem/o250_2.npy'))\n",
    "new_250_3 = np.load(os.path.join(path,'Compare/Ressources/newproblem/o250_3.npy'))\n",
    "new_250_4 = np.load(os.path.join(path,'Compare/Ressources/newproblem/o250_4.npy'))\n",
    "new_250_5 = np.load(os.path.join(path,'Compare/Ressources/newproblem/o250_5.npy'))\n",
    "new_250_6 = np.load(os.path.join(path,'Compare/Ressources/newproblem/o250_6.npy'))\n",
    "new_250_7 = np.load(os.path.join(path,'Compare/Ressources/newproblem/o250_7.npy'))\n",
    "new_250_8 = np.load(os.path.join(path,'Compare/Ressources/newproblem/o250_8.npy'))\n",
    "new_250_9 = np.load(os.path.join(path,'Compare/Ressources/newproblem/o250_9.npy'))\n",
    "new_250_container = np.load(os.path.join(path,'Compare/Ressources/newproblem/medium_container.npy'))\n",
    "new_250_optimal = np.load(os.path.join(path,'Compare/Ressources/newproblem/optimal_solutions_250.npy'))\n",
    "# 500\n",
    "new_500_0 = np.load(os.path.join(path,'Compare/Ressources/newproblem/o500_0.npy'))\n",
    "new_500_1 = np.load(os.path.join(path,'Compare/Ressources/newproblem/o500_1.npy'))\n",
    "new_500_2 = np.load(os.path.join(path,'Compare/Ressources/newproblem/o500_2.npy'))\n",
    "new_500_3 = np.load(os.path.join(path,'Compare/Ressources/newproblem/o500_3.npy'))\n",
    "new_500_4 = np.load(os.path.join(path,'Compare/Ressources/newproblem/o500_4.npy'))\n",
    "new_500_5 = np.load(os.path.join(path,'Compare/Ressources/newproblem/o500_5.npy'))\n",
    "new_500_6 = np.load(os.path.join(path,'Compare/Ressources/newproblem/o500_6.npy'))\n",
    "new_500_7 = np.load(os.path.join(path,'Compare/Ressources/newproblem/o500_7.npy'))\n",
    "new_500_8 = np.load(os.path.join(path,'Compare/Ressources/newproblem/o500_8.npy'))\n",
    "new_500_9 = np.load(os.path.join(path,'Compare/Ressources/newproblem/o500_9.npy'))\n",
    "new_500_container = np.load(os.path.join(path,'Compare/Ressources/newproblem/medium_container.npy'))\n",
    "new_500_optimal = np.load(os.path.join(path,'Compare/Ressources/newproblem/optimal_solutions_500.npy'))\n",
    "# 1000\n",
    "new_1000_0 = np.load(os.path.join(path,'Compare/Ressources/newproblem/o1000_0.npy'))\n",
    "new_1000_1 = np.load(os.path.join(path,'Compare/Ressources/newproblem/o1000_1.npy'))\n",
    "new_1000_2 = np.load(os.path.join(path,'Compare/Ressources/newproblem/o1000_2.npy'))\n",
    "new_1000_3 = np.load(os.path.join(path,'Compare/Ressources/newproblem/o1000_3.npy'))\n",
    "new_1000_4 = np.load(os.path.join(path,'Compare/Ressources/newproblem/o1000_4.npy'))\n",
    "new_1000_5 = np.load(os.path.join(path,'Compare/Ressources/newproblem/o1000_5.npy'))\n",
    "new_1000_6 = np.load(os.path.join(path,'Compare/Ressources/newproblem/o1000_6.npy'))\n",
    "new_1000_7 = np.load(os.path.join(path,'Compare/Ressources/newproblem/o1000_7.npy'))\n",
    "new_1000_8 = np.load(os.path.join(path,'Compare/Ressources/newproblem/o1000_8.npy'))\n",
    "new_1000_9 = np.load(os.path.join(path,'Compare/Ressources/newproblem/o1000_9.npy'))\n",
    "new_1000_container = np.load(os.path.join(path,'Compare/Ressources/newproblem/medium_container.npy'))\n",
    "new_1000_optimal = np.load(os.path.join(path,'Compare/Ressources/newproblem/optimal_solutions_1000.npy'))\n",
    "print('Optimale Lösungen')\n",
    "print(f'50: {new_50_optimal}')\n",
    "print(f'100 {new_100_optimal}')\n",
    "print(f'250 {new_250_optimal}')\n",
    "print(f'500 {new_500_optimal}')\n",
    "print(f'1000 {new_1000_optimal}')"
   ],
   "outputs": [
    {
     "output_type": "stream",
     "name": "stdout",
     "text": [
      "Optimale Lösungen\n",
      "50: [14 14 14 15 14 13 13 13 14 14]\n",
      "100 [30 26 29 27 29 29 29 25 27 27]\n",
      "250 [72 70 67 71 71 71 67 74 75 71]\n",
      "500 [145 139 141 146 143 149 142 143 147 140]\n",
      "1000 [283 288 283 284 282 293 286 282 285 291]\n"
     ]
    }
   ],
   "metadata": {}
  },
  {
   "cell_type": "code",
   "execution_count": 7,
   "source": [
    "number_average = 10\n",
    "iterations = 30"
   ],
   "outputs": [],
   "metadata": {}
  },
  {
   "cell_type": "markdown",
   "source": [
    "# GA"
   ],
   "metadata": {}
  },
  {
   "cell_type": "markdown",
   "source": [
    "## PSO new_50"
   ],
   "metadata": {}
  },
  {
   "cell_type": "markdown",
   "source": [
    "### new_50_0"
   ],
   "metadata": {}
  },
  {
   "cell_type": "code",
   "execution_count": 12,
   "source": [
    "#new_50_0_GA_solution_bins = np.zeros(number_average) # <- ist bei mir einfach nur die letzte Generation -> brauchen wir das wirklich dann muss ich noch einiges umschreiben?\n",
    "new_50_0_GA_runtime = np.zeros(number_average) #wichtig\n",
    "# new_50_0_PSO_gbest_bins = np.zeros((number_average, iterations)) <- Ist bei mir nur ein eindim Array? Also der bestBin der überhaupt gefunden wurde (pro durchlauf(number_average))\n",
    "new_50_0_GA_gbest_bins = np.zeros((number_average))\n",
    "#new_50_0_PSO_gbest_fitness = np.zeros((number_average, iterations)) <- habe ich nicht \n",
    "new_50_0_GA_average_bins = np.zeros((number_average, iterations)) #wichtig\n",
    "new_50_0_GA_best_bins = np.zeros((number_average, iterations)) #wichtig\n",
    "new_50_0_GA_worst_bins = np.zeros((number_average, iterations)) #wichtig\n",
    "new_50_0_GA_fitness = np.zeros((number_average, iterations)) #wichtig\n",
    "#new_50_0_PSO_unfit_moves = np.zeros((number_average, iterations)) # <- habe ich nicht \n",
    "#new_50_0_PSO_chaos_moves = np.zeros((number_average, iterations)) # <- habe ich nicht \n",
    "#new_50_0_PSO_heuristic_moves = np.zeros((number_average, iterations)) # <- habe ich nicht \n",
    "\n",
    "# hier der Beispielaufruf für die Funktion\n",
    "for i in range(number_average):\n",
    "    GA = GeneticAlgorithm(new_50_0, new_50_container[0], new_50_container[1])\n",
    "    _, new_50_0_GA_gbest_bins[i], new_50_0_GA_average_bins[i], new_50_0_GA_best_bins, new_50_0_GA_worst_bins, new_50_0_GA_runtime[i], new_50_0_GA_fitness[i]    = GA.run()\n",
    "    print(str(i) + ' done')\n",
    "    \n",
    "name1 = 'Solutions/new_50_0_GA_solution_bins.npy'\n",
    "name2 = 'Solutions/new_50_0_GA_runtime.npy'\n",
    "name3 = 'Solutions/new_50_0_GA_gbest_bins.npy'\n",
    "#name4 = 'Solutions/new_50_0__gbest_fitness.npy'\n",
    "name5 = 'Solutions/new_50_0_GA_average_bins.npy'\n",
    "name6 = 'Solutions/new_50_0_GA_best_bins.npy'\n",
    "name7 = 'Solutions/new_50_0_GA_worst_bins.npy'\n",
    "name8 = 'Solutions/new_50_0_GA_fitness.npy'\n",
    "#name9 = 'Solutions/new_50_0_PSO_unfit_moves.npy'\n",
    "#name10 = 'Solutions/new_50_0_PSO_chaos_moves.npy'\n",
    "#name11 = 'Solutions/new_50_0_PSO_heuristic_moves.npy'\n",
    "\n",
    "#np.save(name1, new_50_0_GA_solution_bins)\n",
    "np.save(name2, new_50_0_GA_runtime)\n",
    "np.save(name3, new_50_0_GA_gbest_bins)\n",
    "#np.save(name4, new_50_0_PSO_gbest_fitness)\n",
    "np.save(name5, new_50_0_GA_average_bins)\n",
    "np.save(name6, new_50_0_GA_best_bins)\n",
    "np.save(name7, new_50_0_GA_worst_bins)\n",
    "np.save(name8, new_50_0_GA_fitness)\n",
    "#np.save(name9, new_50_0_PSO_unfit_moves)\n",
    "#np.save(name10, new_50_0_PSO_chaos_moves)\n",
    "#np.save(name11, new_50_0_PSO_heuristic_moves)"
   ],
   "outputs": [
    {
     "output_type": "stream",
     "name": "stdout",
     "text": [
      "0 done\n",
      "1 done\n"
     ]
    },
    {
     "output_type": "error",
     "ename": "KeyboardInterrupt",
     "evalue": "",
     "traceback": [
      "\u001b[0;31m---------------------------------------------------------------------------\u001b[0m",
      "\u001b[0;31mKeyboardInterrupt\u001b[0m                         Traceback (most recent call last)",
      "\u001b[0;32m/var/folders/6j/_dhbmfxs7j5_s134l1bccbzc0000gn/T/ipykernel_15084/2152315591.py\u001b[0m in \u001b[0;36m<module>\u001b[0;34m\u001b[0m\n\u001b[1;32m     14\u001b[0m \u001b[0;34m\u001b[0m\u001b[0m\n\u001b[1;32m     15\u001b[0m \u001b[0;32mfor\u001b[0m \u001b[0mi\u001b[0m \u001b[0;32min\u001b[0m \u001b[0mrange\u001b[0m\u001b[0;34m(\u001b[0m\u001b[0mnumber_average\u001b[0m\u001b[0;34m)\u001b[0m\u001b[0;34m:\u001b[0m\u001b[0;34m\u001b[0m\u001b[0;34m\u001b[0m\u001b[0m\n\u001b[0;32m---> 16\u001b[0;31m     \u001b[0mGA\u001b[0m \u001b[0;34m=\u001b[0m \u001b[0mGeneticAlgorithm\u001b[0m\u001b[0;34m(\u001b[0m\u001b[0mnew_50_0\u001b[0m\u001b[0;34m,\u001b[0m \u001b[0mnew_50_container\u001b[0m\u001b[0;34m[\u001b[0m\u001b[0;36m0\u001b[0m\u001b[0;34m]\u001b[0m\u001b[0;34m,\u001b[0m \u001b[0mnew_50_container\u001b[0m\u001b[0;34m[\u001b[0m\u001b[0;36m1\u001b[0m\u001b[0;34m]\u001b[0m\u001b[0;34m,\u001b[0m \u001b[0;36m30\u001b[0m\u001b[0;34m)\u001b[0m\u001b[0;34m\u001b[0m\u001b[0;34m\u001b[0m\u001b[0m\n\u001b[0m\u001b[1;32m     17\u001b[0m     \u001b[0m_\u001b[0m\u001b[0;34m,\u001b[0m \u001b[0mnew_50_0_GA_gbest_bins\u001b[0m\u001b[0;34m[\u001b[0m\u001b[0mi\u001b[0m\u001b[0;34m]\u001b[0m\u001b[0;34m,\u001b[0m \u001b[0mnew_50_0_GA_average_bins\u001b[0m\u001b[0;34m[\u001b[0m\u001b[0mi\u001b[0m\u001b[0;34m]\u001b[0m\u001b[0;34m,\u001b[0m \u001b[0mnew_50_0_GA_best_bins\u001b[0m\u001b[0;34m,\u001b[0m \u001b[0mnew_50_0_GA_worst_bins\u001b[0m\u001b[0;34m,\u001b[0m \u001b[0mnew_50_0_GA_runtime\u001b[0m\u001b[0;34m[\u001b[0m\u001b[0mi\u001b[0m\u001b[0;34m]\u001b[0m\u001b[0;34m,\u001b[0m \u001b[0mnew_50_0_GA_fitness\u001b[0m\u001b[0;34m[\u001b[0m\u001b[0mi\u001b[0m\u001b[0;34m]\u001b[0m    \u001b[0;34m=\u001b[0m \u001b[0mGA\u001b[0m\u001b[0;34m.\u001b[0m\u001b[0mrun\u001b[0m\u001b[0;34m(\u001b[0m\u001b[0;34m)\u001b[0m\u001b[0;34m\u001b[0m\u001b[0;34m\u001b[0m\u001b[0m\n\u001b[1;32m     18\u001b[0m     \u001b[0mprint\u001b[0m\u001b[0;34m(\u001b[0m\u001b[0mstr\u001b[0m\u001b[0;34m(\u001b[0m\u001b[0mi\u001b[0m\u001b[0;34m)\u001b[0m \u001b[0;34m+\u001b[0m \u001b[0;34m' done'\u001b[0m\u001b[0;34m)\u001b[0m\u001b[0;34m\u001b[0m\u001b[0;34m\u001b[0m\u001b[0m\n",
      "\u001b[0;32m~/Documents/Uni/Uni_Bonn/Informatik/Semester4/Projektgruppe/NatureInspiredAlgorithms/GeneticAlgorithm/GeneticAlgorithm.py\u001b[0m in \u001b[0;36m__init__\u001b[0;34m(self, objects, bin_vol_capacity, bin_weight_capacity, number_generations, population_size, crossover_probability, mutation_probability, fitness_function, fit_heuristic, sampling_method, fit_sort, sort_in_recom_and_mutation)\u001b[0m\n\u001b[1;32m     51\u001b[0m             \u001b[0mobject_list\u001b[0m\u001b[0;34m.\u001b[0m\u001b[0mappend\u001b[0m\u001b[0;34m(\u001b[0m\u001b[0mobj\u001b[0m\u001b[0;34m)\u001b[0m\u001b[0;34m\u001b[0m\u001b[0;34m\u001b[0m\u001b[0m\n\u001b[1;32m     52\u001b[0m         \u001b[0mGeneticAlgorithm\u001b[0m\u001b[0;34m.\u001b[0m\u001b[0mnumber_objects\u001b[0m \u001b[0;34m=\u001b[0m \u001b[0mlen\u001b[0m\u001b[0;34m(\u001b[0m\u001b[0mobject_list\u001b[0m\u001b[0;34m)\u001b[0m\u001b[0;34m\u001b[0m\u001b[0;34m\u001b[0m\u001b[0m\n\u001b[0;32m---> 53\u001b[0;31m         \u001b[0mself\u001b[0m\u001b[0;34m.\u001b[0m\u001b[0mcurrent_population\u001b[0m \u001b[0;34m=\u001b[0m \u001b[0mPopulation\u001b[0m\u001b[0;34m.\u001b[0m\u001b[0mcreate_initial_population\u001b[0m\u001b[0;34m(\u001b[0m\u001b[0mpopulation_size\u001b[0m\u001b[0;34m,\u001b[0m \u001b[0mobject_list\u001b[0m\u001b[0;34m,\u001b[0m \u001b[0mbin_vol_capacity\u001b[0m\u001b[0;34m,\u001b[0m \u001b[0mbin_weight_capacity\u001b[0m\u001b[0;34m)\u001b[0m\u001b[0;34m\u001b[0m\u001b[0;34m\u001b[0m\u001b[0m\n\u001b[0m\u001b[1;32m     54\u001b[0m         \u001b[0mself\u001b[0m\u001b[0;34m.\u001b[0m\u001b[0mcrossover_probability\u001b[0m \u001b[0;34m=\u001b[0m \u001b[0mcrossover_probability\u001b[0m\u001b[0;34m\u001b[0m\u001b[0;34m\u001b[0m\u001b[0m\n\u001b[1;32m     55\u001b[0m         \u001b[0mself\u001b[0m\u001b[0;34m.\u001b[0m\u001b[0mmutation_probability\u001b[0m \u001b[0;34m=\u001b[0m \u001b[0mmutation_probability\u001b[0m\u001b[0;34m\u001b[0m\u001b[0;34m\u001b[0m\u001b[0m\n",
      "\u001b[0;32m~/Documents/Uni/Uni_Bonn/Informatik/Semester4/Projektgruppe/NatureInspiredAlgorithms/GeneticAlgorithm/GeneticAlgorithm.py\u001b[0m in \u001b[0;36mcreate_initial_population\u001b[0;34m(population_size, object_list, bin_vol_capacity, bin_weight_capacity)\u001b[0m\n\u001b[1;32m    144\u001b[0m         \u001b[0;32mfor\u001b[0m \u001b[0mindex\u001b[0m \u001b[0;32min\u001b[0m \u001b[0mnp\u001b[0m\u001b[0;34m.\u001b[0m\u001b[0marange\u001b[0m\u001b[0;34m(\u001b[0m\u001b[0mlen\u001b[0m\u001b[0;34m(\u001b[0m\u001b[0mpop\u001b[0m\u001b[0;34m.\u001b[0m\u001b[0mcurrent_members\u001b[0m\u001b[0;34m)\u001b[0m\u001b[0;34m)\u001b[0m\u001b[0;34m:\u001b[0m\u001b[0;34m\u001b[0m\u001b[0;34m\u001b[0m\u001b[0m\n\u001b[1;32m    145\u001b[0m             \u001b[0mrandom\u001b[0m\u001b[0;34m.\u001b[0m\u001b[0mshuffle\u001b[0m\u001b[0;34m(\u001b[0m\u001b[0mobject_list\u001b[0m\u001b[0;34m)\u001b[0m\u001b[0;34m\u001b[0m\u001b[0;34m\u001b[0m\u001b[0m\n\u001b[0;32m--> 146\u001b[0;31m             \u001b[0mchromosome\u001b[0m \u001b[0;34m=\u001b[0m \u001b[0mChromosome\u001b[0m\u001b[0;34m.\u001b[0m\u001b[0mcreate_chromosome\u001b[0m\u001b[0;34m(\u001b[0m\u001b[0mobject_list\u001b[0m\u001b[0;34m,\u001b[0m \u001b[0mbin_vol_capacity\u001b[0m\u001b[0;34m,\u001b[0m \u001b[0mbin_weight_capacity\u001b[0m\u001b[0;34m)\u001b[0m\u001b[0;34m\u001b[0m\u001b[0;34m\u001b[0m\u001b[0m\n\u001b[0m\u001b[1;32m    147\u001b[0m             \u001b[0;32massert\u001b[0m\u001b[0;34m(\u001b[0m\u001b[0mchromosome\u001b[0m\u001b[0;34m.\u001b[0m\u001b[0mtotal_amount_objects_in_bins\u001b[0m\u001b[0;34m(\u001b[0m\u001b[0;34m)\u001b[0m \u001b[0;34m==\u001b[0m \u001b[0mGeneticAlgorithm\u001b[0m\u001b[0;34m.\u001b[0m\u001b[0mnumber_objects\u001b[0m\u001b[0;34m)\u001b[0m\u001b[0;34m,\u001b[0m \u001b[0;34m'Chromosome with to many/ not enough objects'\u001b[0m\u001b[0;34m\u001b[0m\u001b[0;34m\u001b[0m\u001b[0m\n\u001b[1;32m    148\u001b[0m             \u001b[0mpop\u001b[0m\u001b[0;34m.\u001b[0m\u001b[0mcurrent_members\u001b[0m\u001b[0;34m[\u001b[0m\u001b[0mindex\u001b[0m\u001b[0;34m]\u001b[0m \u001b[0;34m=\u001b[0m \u001b[0mchromosome\u001b[0m\u001b[0;34m\u001b[0m\u001b[0;34m\u001b[0m\u001b[0m\n",
      "\u001b[0;32m~/Documents/Uni/Uni_Bonn/Informatik/Semester4/Projektgruppe/NatureInspiredAlgorithms/GeneticAlgorithm/GeneticAlgorithm.py\u001b[0m in \u001b[0;36mcreate_chromosome\u001b[0;34m(object_list, bin_vol_capacity, bin_weight_capacity, prob)\u001b[0m\n\u001b[1;32m    208\u001b[0m         \u001b[0;31m# use first fit heuristic to distribute the objects\u001b[0m\u001b[0;34m\u001b[0m\u001b[0;34m\u001b[0m\u001b[0;34m\u001b[0m\u001b[0m\n\u001b[1;32m    209\u001b[0m         \u001b[0;32mfor\u001b[0m \u001b[0mobj\u001b[0m \u001b[0;32min\u001b[0m \u001b[0mobject_list\u001b[0m\u001b[0;34m:\u001b[0m\u001b[0;34m\u001b[0m\u001b[0;34m\u001b[0m\u001b[0m\n\u001b[0;32m--> 210\u001b[0;31m             \u001b[0mchromosome\u001b[0m\u001b[0;34m.\u001b[0m\u001b[0mfirst_fit_chance\u001b[0m\u001b[0;34m(\u001b[0m\u001b[0mobj\u001b[0m\u001b[0;34m,\u001b[0m \u001b[0mprob\u001b[0m\u001b[0;34m)\u001b[0m\u001b[0;34m\u001b[0m\u001b[0;34m\u001b[0m\u001b[0m\n\u001b[0m\u001b[1;32m    211\u001b[0m         \u001b[0;31m#assert(chromosome.total_amount_objects_in_bins() == GeneticAlgorithm.number_objects) , 'Total number of objects is to big'\u001b[0m\u001b[0;34m\u001b[0m\u001b[0;34m\u001b[0m\u001b[0;34m\u001b[0m\u001b[0m\n\u001b[1;32m    212\u001b[0m         \u001b[0;31m#assert(len(chromosome.group_part) <= GeneticAlgorithm.number_objects), 'Wrong creation of chromosome'\u001b[0m\u001b[0;34m\u001b[0m\u001b[0;34m\u001b[0m\u001b[0;34m\u001b[0m\u001b[0m\n",
      "\u001b[0;32m~/Documents/Uni/Uni_Bonn/Informatik/Semester4/Projektgruppe/NatureInspiredAlgorithms/GeneticAlgorithm/GeneticAlgorithm.py\u001b[0m in \u001b[0;36mfirst_fit_chance\u001b[0;34m(self, obj, prob)\u001b[0m\n\u001b[1;32m    218\u001b[0m         \u001b[0mself\u001b[0m\u001b[0;34m.\u001b[0m\u001b[0mgroup_part\u001b[0m\u001b[0;34m\u001b[0m\u001b[0;34m\u001b[0m\u001b[0m\n\u001b[1;32m    219\u001b[0m         \u001b[0;31m# special case for first bin\u001b[0m\u001b[0;34m\u001b[0m\u001b[0;34m\u001b[0m\u001b[0;34m\u001b[0m\u001b[0m\n\u001b[0;32m--> 220\u001b[0;31m         \u001b[0;32massert\u001b[0m\u001b[0;34m(\u001b[0m\u001b[0mself\u001b[0m\u001b[0;34m.\u001b[0m\u001b[0mobject_not_contained_in_any_bin\u001b[0m\u001b[0;34m(\u001b[0m\u001b[0mobj\u001b[0m\u001b[0;34m)\u001b[0m\u001b[0;34m)\u001b[0m\u001b[0;34m,\u001b[0m \u001b[0;34m'Object to be inserted already contained in a bin'\u001b[0m\u001b[0;34m\u001b[0m\u001b[0;34m\u001b[0m\u001b[0m\n\u001b[0m\u001b[1;32m    221\u001b[0m         \u001b[0;32mif\u001b[0m \u001b[0mlen\u001b[0m\u001b[0;34m(\u001b[0m\u001b[0mself\u001b[0m\u001b[0;34m.\u001b[0m\u001b[0mgroup_part\u001b[0m\u001b[0;34m)\u001b[0m \u001b[0;34m==\u001b[0m \u001b[0;36m1\u001b[0m\u001b[0;34m:\u001b[0m\u001b[0;34m\u001b[0m\u001b[0;34m\u001b[0m\u001b[0m\n\u001b[1;32m    222\u001b[0m             \u001b[0;32mif\u001b[0m \u001b[0mself\u001b[0m\u001b[0;34m.\u001b[0m\u001b[0mgroup_part\u001b[0m\u001b[0;34m[\u001b[0m\u001b[0;36m0\u001b[0m\u001b[0;34m]\u001b[0m\u001b[0;34m.\u001b[0m\u001b[0mcheck_fit\u001b[0m\u001b[0;34m(\u001b[0m\u001b[0mobj\u001b[0m\u001b[0;34m)\u001b[0m\u001b[0;34m:\u001b[0m\u001b[0;34m\u001b[0m\u001b[0;34m\u001b[0m\u001b[0m\n",
      "\u001b[0;32m~/Documents/Uni/Uni_Bonn/Informatik/Semester4/Projektgruppe/NatureInspiredAlgorithms/GeneticAlgorithm/GeneticAlgorithm.py\u001b[0m in \u001b[0;36mobject_not_contained_in_any_bin\u001b[0;34m(self, obj)\u001b[0m\n\u001b[1;32m    538\u001b[0m         \u001b[0;34m'''Checks if obj is contained in any of the bins '''\u001b[0m\u001b[0;34m\u001b[0m\u001b[0;34m\u001b[0m\u001b[0m\n\u001b[1;32m    539\u001b[0m         \u001b[0;32mfor\u001b[0m \u001b[0mbin\u001b[0m \u001b[0;32min\u001b[0m \u001b[0mself\u001b[0m\u001b[0;34m.\u001b[0m\u001b[0mgroup_part\u001b[0m\u001b[0;34m:\u001b[0m\u001b[0;34m\u001b[0m\u001b[0;34m\u001b[0m\u001b[0m\n\u001b[0;32m--> 540\u001b[0;31m             \u001b[0;32mif\u001b[0m \u001b[0mbin\u001b[0m\u001b[0;34m.\u001b[0m\u001b[0mcontains_obj\u001b[0m\u001b[0;34m(\u001b[0m\u001b[0mobj\u001b[0m\u001b[0;34m)\u001b[0m\u001b[0;34m:\u001b[0m\u001b[0;34m\u001b[0m\u001b[0;34m\u001b[0m\u001b[0m\n\u001b[0m\u001b[1;32m    541\u001b[0m                 \u001b[0;32mreturn\u001b[0m \u001b[0;32mFalse\u001b[0m\u001b[0;34m\u001b[0m\u001b[0;34m\u001b[0m\u001b[0m\n\u001b[1;32m    542\u001b[0m         \u001b[0;32mreturn\u001b[0m \u001b[0;32mTrue\u001b[0m\u001b[0;34m\u001b[0m\u001b[0;34m\u001b[0m\u001b[0m\n",
      "\u001b[0;32m~/Documents/Uni/Uni_Bonn/Informatik/Semester4/Projektgruppe/NatureInspiredAlgorithms/GeneticAlgorithm/GeneticAlgorithm.py\u001b[0m in \u001b[0;36mcontains_obj\u001b[0;34m(self, obj)\u001b[0m\n\u001b[1;32m    567\u001b[0m         \u001b[0;32mreturn\u001b[0m \u001b[0mnew_bin\u001b[0m\u001b[0;34m\u001b[0m\u001b[0;34m\u001b[0m\u001b[0m\n\u001b[1;32m    568\u001b[0m \u001b[0;34m\u001b[0m\u001b[0m\n\u001b[0;32m--> 569\u001b[0;31m     \u001b[0;32mdef\u001b[0m \u001b[0mcontains_obj\u001b[0m\u001b[0;34m(\u001b[0m\u001b[0mself\u001b[0m\u001b[0;34m,\u001b[0m \u001b[0mobj\u001b[0m\u001b[0;34m)\u001b[0m\u001b[0;34m:\u001b[0m\u001b[0;34m\u001b[0m\u001b[0;34m\u001b[0m\u001b[0m\n\u001b[0m\u001b[1;32m    570\u001b[0m         \u001b[0;34m'''Checks if an obj is contained in a bin'''\u001b[0m\u001b[0;34m\u001b[0m\u001b[0;34m\u001b[0m\u001b[0m\n\u001b[1;32m    571\u001b[0m         \u001b[0;32mif\u001b[0m \u001b[0mobj\u001b[0m \u001b[0;32min\u001b[0m \u001b[0mself\u001b[0m\u001b[0;34m.\u001b[0m\u001b[0mobjects_contained\u001b[0m\u001b[0;34m:\u001b[0m\u001b[0;34m\u001b[0m\u001b[0;34m\u001b[0m\u001b[0m\n",
      "\u001b[0;31mKeyboardInterrupt\u001b[0m: "
     ]
    }
   ],
   "metadata": {}
  },
  {
   "cell_type": "code",
   "execution_count": null,
   "source": [],
   "outputs": [],
   "metadata": {}
  }
 ],
 "metadata": {
  "interpreter": {
   "hash": "aee8b7b246df8f9039afb4144a1f6fd8d2ca17a180786b69acc140d282b71a49"
  },
  "kernelspec": {
   "name": "python3",
   "display_name": "Python 3.9.1 64-bit"
  },
  "language_info": {
   "codemirror_mode": {
    "name": "ipython",
    "version": 3
   },
   "file_extension": ".py",
   "mimetype": "text/x-python",
   "name": "python",
   "nbconvert_exporter": "python",
   "pygments_lexer": "ipython3",
   "version": "3.9.1"
  }
 },
 "nbformat": 4,
 "nbformat_minor": 2
}