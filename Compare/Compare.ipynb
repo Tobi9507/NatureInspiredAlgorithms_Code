{
 "cells": [
  {
   "cell_type": "markdown",
   "source": [
    "# Vergleich der Algorithmen"
   ],
   "metadata": {}
  },
  {
   "cell_type": "code",
   "execution_count": 14,
   "source": [
    "# imports\n",
    "# add folder to syspath to import GeneticAlgorithm \n",
    "import os\n",
    "import sys\n",
    "path = os.path.dirname(os.path.abspath(''))\n",
    "sys.path.insert(0, path+'/GeneticAlgorithm')\n",
    "from GeneticAlgorithm import GeneticAlgorithm\n",
    "\n",
    "# add folder to syspath to import ParticleSwarmOptimization\n",
    "sys.path.insert(0, os.path.dirname(path)+'/ParticleSwarmOptimization')\n",
    "\n",
    " # add folder to syspath to import ACO \n",
    "sys.path.insert(0, os.path.dirname(path)+'/AntColonyOptimization')\n",
    "\n",
    "import numpy as np\n",
    "from matplotlib import pyplot as plt"
   ],
   "outputs": [],
   "metadata": {}
  },
  {
   "cell_type": "code",
   "execution_count": 15,
   "source": [
    "# lade die Probleme\n",
    "# small problem\n",
    "small_objects  = np.load(os.path.join(path,'Compare/Ressources/betterproblem/small_objects.npy'))\n",
    "small_container = np.load(os.path.join(path,'Compare/Ressources/betterproblem/small_container.npy'))\n",
    "small_optimal_solution = np.load(os.path.join(path, 'Compare/Ressources/betterproblem/small_optimal.npy'))\n",
    "# medium Problem\n",
    "medium_objects= np.load(os.path.join(path,'Compare/Ressources/betterproblem/medium_objects.npy'))\n",
    "medium_container = np.load(os.path.join(path,'Compare/Ressources/betterproblem/medium_container.npy'))\n",
    "medium_optimal_solution = np.load(os.path.join(path, 'Compare/Ressources/betterproblem/medium_optimal.npy'))\n",
    "# large Problem\n",
    "large_objects  = np.load(os.path.join(path,'Compare/Ressources/betterproblem/large_objects.npy'))\n",
    "large_container = np.load(os.path.join(path,'Compare/Ressources/betterproblem/large_container.npy'))\n",
    "large_optimal_solution = np.load(os.path.join(path, 'Compare/Ressources/betterproblem/large_optimal.npy'))\n",
    "\n",
    "print('Optimale Lösungen')\n",
    "print(f'Kleines Problem {small_optimal_solution}')\n",
    "print(f'Medium Problem {medium_optimal_solution}')\n",
    "print(f'Großes Problem {large_optimal_solution}')"
   ],
   "outputs": [
    {
     "output_type": "stream",
     "name": "stdout",
     "text": [
      "Optimale Lösungen\n",
      "Kleines Problem 3\n",
      "Medium Problem 16\n",
      "Großes Problem 35\n"
     ]
    }
   ],
   "metadata": {}
  }
 ],
 "metadata": {
  "orig_nbformat": 4,
  "language_info": {
   "name": "python",
   "version": "3.9.1",
   "mimetype": "text/x-python",
   "codemirror_mode": {
    "name": "ipython",
    "version": 3
   },
   "pygments_lexer": "ipython3",
   "nbconvert_exporter": "python",
   "file_extension": ".py"
  },
  "kernelspec": {
   "name": "python3",
   "display_name": "Python 3.9.1 64-bit"
  },
  "interpreter": {
   "hash": "aee8b7b246df8f9039afb4144a1f6fd8d2ca17a180786b69acc140d282b71a49"
  }
 },
 "nbformat": 4,
 "nbformat_minor": 2
}